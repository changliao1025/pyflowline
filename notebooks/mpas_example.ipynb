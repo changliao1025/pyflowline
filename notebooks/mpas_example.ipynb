{
 "cells": [
  {
   "attachments": {},
   "cell_type": "markdown",
   "id": "768807d8-ff92-4289-86eb-c9366edceafe",
   "metadata": {},
   "source": [
    "This is a tutorial pyflowline notebook.\n",
    "\n",
    "This tutorial is an example of the pyflowline application using an MPAS mesh.\n",
    "\n",
    "First, let's load some Python libraries "
   ]
  },
  {
   "cell_type": "code",
   "execution_count": 1,
   "id": "d101804e",
   "metadata": {},
   "outputs": [],
   "source": [
    "#step 1\n",
    "import os\n",
    "import sys\n",
    "from pathlib import Path\n",
    "from os.path import realpath"
   ]
  },
  {
   "attachments": {},
   "cell_type": "markdown",
   "id": "42fae085",
   "metadata": {},
   "source": [
    "Now let's define the path of the package"
   ]
  },
  {
   "cell_type": "code",
   "execution_count": 5,
   "id": "c35e1e40",
   "metadata": {},
   "outputs": [
    {
     "name": "stdout",
     "output_type": "stream",
     "text": [
      "/Users/liao313/workspace/python/pyflowline/notebooks\n",
      "/Users/liao313/workspace/python/pyflowline\n"
     ]
    }
   ],
   "source": [
    "#step 2 option A\n",
    "sPath_notebook = Path().resolve()\n",
    "sPath_parent = str(Path().resolve().parents[0]) # data is located two dir's up\n",
    "print(sPath_notebook)\n",
    "print(sPath_parent)\n",
    "\n"
   ]
  },
  {
   "attachments": {},
   "cell_type": "markdown",
   "id": "fc56a9da",
   "metadata": {},
   "source": [
    "If this parent folder is where your pyflowline source code is installed, we can continue. If not, you can manually specify it such as:"
   ]
  },
  {
   "cell_type": "code",
   "execution_count": 6,
   "id": "9b0814e9",
   "metadata": {},
   "outputs": [],
   "source": [
    "sPath_parent = '/Users/liao313/workspace/python/pyflowline'"
   ]
  },
  {
   "attachments": {},
   "cell_type": "markdown",
   "id": "aabcfc65",
   "metadata": {},
   "source": [
    "Now append this path to the Python path."
   ]
  },
  {
   "cell_type": "code",
   "execution_count": 7,
   "id": "d2f454ef",
   "metadata": {},
   "outputs": [],
   "source": [
    "sys.path.append(sPath_parent)"
   ]
  },
  {
   "cell_type": "markdown",
   "id": "25edfaeb",
   "metadata": {},
   "source": [
    "The pyflowline python package uses the OOP approach to manage configuration settings.\n",
    "Set up the case object. \n",
    "Set up some core keywords."
   ]
  },
  {
   "cell_type": "code",
   "execution_count": 9,
   "id": "9ad0e257",
   "metadata": {},
   "outputs": [
    {
     "name": "stdout",
     "output_type": "stream",
     "text": [
      "/Users/liao313/workspace/python/pyflowline\n"
     ]
    }
   ],
   "source": [
    "#step 2 option B\n",
    "import pyflowline\n",
    "#load the read configuration function\n",
    "from pyflowline.pyflowline_read_model_configuration_file import pyflowline_read_model_configuration_file\n",
    "\n",
    "sPath_parent = str(Path().resolve().parents[0]) \n",
    "print(sPath_parent)\n"
   ]
  },
  {
   "cell_type": "markdown",
   "id": "f255c481",
   "metadata": {},
   "source": [
    "We provide two options to set up a simulation case. First, from scratch (iFlag_option: 1); second, using a json file (iFlag_option = 2). For details of the json file format, please read the documentation.\n",
    "We will use option 1 in this tutorial."
   ]
  },
  {
   "cell_type": "code",
   "execution_count": 12,
   "id": "f6a280b6",
   "metadata": {},
   "outputs": [],
   "source": [
    "#step 3\n",
    "#set up workspace\n",
    "sWorkspace_data = realpath( sPath_parent +  '/data/susquehanna' )\n",
    "sWorkspace_input =  str(Path(sWorkspace_data)  /  'input')\n",
    "sWorkspace_output=  str(Path(sWorkspace_data)  /  'output')     "
   ]
  },
  {
   "cell_type": "code",
   "execution_count": 18,
   "id": "5655555a",
   "metadata": {},
   "outputs": [],
   "source": [
    "#step 4A\n",
    "#pyflowline use a json file to organize all the input information, and an example json file is provided. \n",
    "sFilename_configuration_in = realpath( sPath_parent +  '/examples/susquehanna/pyflowline_susquehanna_mpas.json' )\n",
    "#if the configuration file does not exist, you need to check the path setting\n",
    "if os.path.isfile(sFilename_configuration_in):\n",
    "    pass\n",
    "else:\n",
    "    print('This configuration does not exist: ', sFilename_configuration_in )\n",
    "    exit"
   ]
  },
  {
   "cell_type": "code",
   "execution_count": 14,
   "id": "c468d0d5",
   "metadata": {},
   "outputs": [
    {
     "name": "stdout",
     "output_type": "stream",
     "text": [
      "{\n",
      "    \"sFilename_model_configuration\": \"/qfs/people/liao313/workspace/python/pyflowline/pyflowline/config/hexwatershed_susquehanna_mpas.json\",\n",
      "    \"sWorkspace_data\": \"/people/liao313/data\",\n",
      "    \"sWorkspace_output\": \"/compyfs/liao313/04model/pyflowline/susquehanna\",\n",
      "    \"sWorkspace_project\": \"/hexwatershed/susquehanna\",\n",
      "    \"sWorkspace_bin\": \"/people/liao313/bin\",\n",
      "    \"sRegion\": \"susquehanna\",\n",
      "    \"sModel\": \"pyflowline\",\n",
      "    \"sJob\": \"hex\",\n",
      "    \"iFlag_standalone\": 1,\n",
      "    \"iFlag_create_mesh\": 1,\n",
      "    \"iFlag_save_mesh\": 1,\n",
      "    \"iFlag_simplification\": 1,\n",
      "    \"iFlag_intersect\": 1,\n",
      "    \"iFlag_flowline\": 1,\n",
      "    \"iFlag_use_mesh_dem\": 1,\n",
      "    \"iFlag_global\": 0,\n",
      "    \"iFlag_multiple_outlet\": 0,\n",
      "    \"iFlag_rotation\": 0,\n",
      "    \"iCase_index\": 1,\n",
      "    \"iMesh_type\": 1,\n",
      "    \"dLongitude_left\": -79,\n",
      "    \"dLongitude_right\": -74.5,\n",
      "    \"dLatitude_bot\": 39.2,\n",
      "    \"dLatitude_top\": 42.8,\n",
      "    \"dResolution_degree\": 5000,\n",
      "    \"dResolution_meter\": 5000,\n",
      "    \"sDate\": \"20220110\",\n",
      "    \"sMesh_type\": \"mpas\",\n",
      "    \"sFilename_spatial_reference\": \"/qfs/people/liao313/workspace/python/pyhexwatershed_icom/data/susquehanna/input/boundary_proj_buff.shp\",\n",
      "    \"sFilename_dem\": \"/qfs/people/liao313/workspace/python/pyhexwatershed_icom/data/susquehanna/input/dem_buff_ext.tif\",\n",
      "    \"sFilename_mesh_netcdf\": \"/qfs/people/liao313/data/icom/mesh/delaware_lnd_60_30_5_2_v1/lnd_cull_mesh.nc\",\n",
      "    \"sFilename_basins\": \"/qfs/people/liao313/workspace/python/pyflowline_icom/examples/susquehanna/pyflowline_susquehanna_basins.json\"\n",
      "}\n"
     ]
    }
   ],
   "source": [
    "#step 4B\n",
    "#we can check what is the content of this json file\n",
    "import json\n",
    "with open(sFilename_configuration_in, 'r') as pJSON:\n",
    "    parsed = json.load(pJSON)\n",
    "    print(json.dumps(parsed, indent=4))"
   ]
  },
  {
   "attachments": {},
   "cell_type": "markdown",
   "id": "0fcb0d49",
   "metadata": {},
   "source": [
    "The meaning of these json keywords are explained in the pyflowline documentation: https://pyflowline.readthedocs.io/en/latest/data/data.html#inputs\n",
    "\n",
    "For some parameters, we can change them using the following function call.\n",
    "\n",
    "For some other parameters (e.g., path to file), you need to modify the json file using a text editor.\n",
    "\n",
    "If the function returns an error, you should update the json file(s). "
   ]
  },
  {
   "cell_type": "code",
   "execution_count": 25,
   "id": "52820d49",
   "metadata": {},
   "outputs": [],
   "source": [
    "#step 5\n",
    "sMesh_type = 'mpas'\n",
    "iCase_index = 1\n",
    "dResolution_meter=5000\n",
    "sDate='20230101'\n",
    "oPyflowline = pyflowline_read_model_configuration_file(sFilename_configuration_in, iCase_index_in=iCase_index, \n",
    "                                                    sMesh_type_in= sMesh_type, sDate_in=sDate)"
   ]
  },
  {
   "attachments": {},
   "cell_type": "markdown",
   "id": "439971cd",
   "metadata": {},
   "source": [
    "You can review the setting again."
   ]
  },
  {
   "cell_type": "code",
   "execution_count": null,
   "id": "4e96d31d",
   "metadata": {},
   "outputs": [],
   "source": [
    "print(oPyflowline.tojson())"
   ]
  },
  {
   "cell_type": "markdown",
   "id": "c432a723",
   "metadata": {},
   "source": [
    "After the case object was created, we can run the mainly three types of operations. \n",
    "First, we can preprocess the flowline."
   ]
  },
  {
   "cell_type": "markdown",
   "id": "ab7fb64a",
   "metadata": {},
   "source": [
    "Before the operation, we can visualize the original or raw flowline dataset. For most visualization, all you need to provide is a keyword, a look up table is provided in the documentation.\n",
    "Be default, all the dataset will be converted to the WGS84 system to maintain consistency."
   ]
  },
  {
   "attachments": {},
   "cell_type": "markdown",
   "id": "32fe50e3",
   "metadata": {},
   "source": [
    "You can also change the outlet coordinates."
   ]
  },
  {
   "cell_type": "code",
   "execution_count": null,
   "id": "65744d62",
   "metadata": {},
   "outputs": [],
   "source": [
    "oPyflowline.aBasin[0].dLatitude_outlet_degree=39.4620\n",
    "oPyflowline.aBasin[0].dLongitude_outlet_degree=-76.0093\n"
   ]
  },
  {
   "cell_type": "code",
   "execution_count": null,
   "id": "be0624e4",
   "metadata": {},
   "outputs": [],
   "source": [
    "#setup the model       \n",
    "oPyflowline.setup()"
   ]
  },
  {
   "cell_type": "code",
   "execution_count": null,
   "id": "689984cb",
   "metadata": {},
   "outputs": [],
   "source": [
    "#run step 1\n",
    "oPyflowline.flowline_simplification()\n"
   ]
  },
  {
   "cell_type": "markdown",
   "id": "71860336",
   "metadata": {},
   "source": [
    "After the preprocess, we can visualize the final flowline "
   ]
  },
  {
   "cell_type": "markdown",
   "id": "e72a9453",
   "metadata": {},
   "source": [
    "Second, we can creata a mesh"
   ]
  },
  {
   "cell_type": "code",
   "execution_count": null,
   "id": "e898bc82",
   "metadata": {},
   "outputs": [],
   "source": [
    "#run step 2\n",
    "oPyflowline.dLongitude_left= -79\n",
    "oPyflowline.dLongitude_right= -74.5\n",
    "oPyflowline.dLatitude_bot= 39.20\n",
    "oPyflowline.dLatitude_top= 42.8\n",
    "\n",
    "aCell = oPyflowline.mesh_generation()"
   ]
  },
  {
   "cell_type": "markdown",
   "id": "72f8613a",
   "metadata": {},
   "source": [
    "We can also visualize the mesh:"
   ]
  },
  {
   "cell_type": "markdown",
   "id": "9d8c3d26",
   "metadata": {},
   "source": [
    "Last, we can operate the intersect to generate desired flowlines. But we recommend that we run the intersect with some postprocess."
   ]
  },
  {
   "cell_type": "code",
   "execution_count": null,
   "id": "5f7c76d8",
   "metadata": {},
   "outputs": [],
   "source": [
    "#runs step 3\n",
    "oPyflowline.reconstruct_topological_relationship(aCell)\n"
   ]
  },
  {
   "cell_type": "markdown",
   "id": "33ce7f70",
   "metadata": {},
   "source": [
    "After this step, we can now visualize the final flowline again."
   ]
  },
  {
   "cell_type": "code",
   "execution_count": null,
   "id": "e8efab4e",
   "metadata": {},
   "outputs": [],
   "source": [
    "#export output\n",
    "\n",
    "oPyflowline.export()"
   ]
  },
  {
   "cell_type": "code",
   "execution_count": null,
   "id": "cf3c0a1e",
   "metadata": {},
   "outputs": [],
   "source": [
    "print('Finished')\n",
    "\n"
   ]
  },
  {
   "cell_type": "code",
   "execution_count": null,
   "id": "80961007",
   "metadata": {},
   "outputs": [],
   "source": []
  }
 ],
 "metadata": {
  "kernelspec": {
   "display_name": "hexwatershed",
   "language": "python",
   "name": "python3"
  },
  "language_info": {
   "codemirror_mode": {
    "name": "ipython",
    "version": 3
   },
   "file_extension": ".py",
   "mimetype": "text/x-python",
   "name": "python",
   "nbconvert_exporter": "python",
   "pygments_lexer": "ipython3",
   "version": "3.10.9"
  },
  "vscode": {
   "interpreter": {
    "hash": "79a4c0f6fdb3719d3372bd1edc1cf6b68731a08c9eb5f46b972d9360271030c3"
   }
  }
 },
 "nbformat": 4,
 "nbformat_minor": 5
}
