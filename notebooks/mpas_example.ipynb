{
 "cells": [
  {
   "attachments": {},
   "cell_type": "markdown",
   "id": "768807d8-ff92-4289-86eb-c9366edceafe",
   "metadata": {},
   "source": [
    "This is a tutorial pyflowline notebook.\n",
    "This tutorial is an example of the pyflowline application using a Model for Prediction Across Scales (MPAS) mesh.\n",
    "\n",
    "The following publication includes a comprehensive application:\n",
    "Liao, C., Zhou, T., Xu, D., Cooper, M. G., Engwirda, D., Li, H.-Y., & Leung, L. R. (2023). Topological relationship-based flow direction modeling: Mesh-independent river networks representation. Journal of Advances in Modeling Earth Systems, 15, e2022MS003089. https://doi.org/10.1029/2022MS003089\n",
    "\n",
    "The full documentation is hosted at: https://pyflowline.readthedocs.io\n",
    "\n",
    "In order the run this notebook, you must install the PyFlowline package and its dependencies. \n",
    "Besides, the visulization requires the optional dependency packages (see the full documentation installation section).\n",
    "You can also modify the notebook to use a different visualization method.\n"
   ]
  },
  {
   "attachments": {},
   "cell_type": "markdown",
   "id": "e047a116",
   "metadata": {},
   "source": [
    "First, let's load some Python libraries."
   ]
  },
  {
   "cell_type": "code",
   "execution_count": null,
   "id": "d101804e",
   "metadata": {},
   "outputs": [],
   "source": [
    "#step 1\n",
    "import os\n",
    "import sys\n",
    "from pathlib import Path\n",
    "from os.path import realpath\n",
    "import importlib\n",
    "#install dependencies\n",
    "\n",
    "iFlag_numpy = importlib.util.find_spec(\"numpy\")\n",
    "iFlag_gdal = importlib.util.find_spec(\"osgeo\")\n",
    "iFlag_netcdf4 = importlib.util.find_spec(\"netCDF4\")\n",
    "iFlag_geopandas = importlib.util.find_spec(\"geopandas\")\n",
    "iFlag_requests = importlib.util.find_spec(\"requests\") #this one is only for downloading the data"
   ]
  },
  {
   "cell_type": "code",
   "execution_count": null,
   "id": "4b2ca848",
   "metadata": {},
   "outputs": [],
   "source": [
    "if iFlag_numpy is not None:\n",
    "    pass\n",
    "else:\n",
    "    print(\"numpy is not installed\")"
   ]
  },
  {
   "cell_type": "code",
   "execution_count": null,
   "id": "b4ba011d",
   "metadata": {},
   "outputs": [],
   "source": [
    "if iFlag_gdal is not None:\n",
    "    pass\n",
    "else:\n",
    "    print(\"gdal is not installed\")"
   ]
  },
  {
   "cell_type": "code",
   "execution_count": null,
   "id": "f5c78ad3",
   "metadata": {},
   "outputs": [],
   "source": [
    "if iFlag_netcdf4 is not None:\n",
    "    pass\n",
    "else:\n",
    "    print(\"netCDF4 is not installed\")"
   ]
  },
  {
   "cell_type": "code",
   "execution_count": null,
   "id": "4d2b0424",
   "metadata": {},
   "outputs": [],
   "source": [
    "if iFlag_geopandas is not None:\n",
    "    pass\n",
    "else:\n",
    "    print(\"geopandas is not installed\")"
   ]
  },
  {
   "cell_type": "code",
   "execution_count": null,
   "id": "21dd10ee",
   "metadata": {},
   "outputs": [],
   "source": [
    "if iFlag_requests is not None:\n",
    "    pass\n",
    "else:\n",
    "    print(\"requests is not installed\")\n",
    "\n",
    "import requests"
   ]
  },
  {
   "cell_type": "markdown",
   "id": "bf81807a",
   "metadata": {},
   "source": [
    "Then we will check whether some additional packages are installed."
   ]
  },
  {
   "cell_type": "code",
   "execution_count": null,
   "id": "a75e5100",
   "metadata": {},
   "outputs": [],
   "source": [
    "sPath_notebook = Path().resolve()\n",
    "sPath_parent = str(Path().resolve().parents[0]) \n",
    "print(sPath_parent)\n",
    "#check pyflowline installation\n",
    "iFlag_pyflowline = importlib.util.find_spec(\"pyflowline\") \n",
    "if iFlag_pyflowline is not None:\n",
    "    pass\n",
    "else:\n",
    "    print('The pyflowline package is not installed. We will use the current path to set it up.')\n",
    "    sys.path.append(sPath_parent)\n",
    "\n",
    "\n"
   ]
  },
  {
   "cell_type": "markdown",
   "id": "9f2f1520",
   "metadata": {},
   "source": [
    "We need to download an additional NetCDF file for this example.\n",
    "This file is stored on the Github release:\n",
    "https://github.com/changliao1025/pyflowline/releases/tag/0.2.0\n",
    "https://github.com/changliao1025/pyflowline/releases/download/0.2.0/lnd_cull_mesh.nc"
   ]
  },
  {
   "cell_type": "code",
   "execution_count": null,
   "id": "c52960d0",
   "metadata": {},
   "outputs": [],
   "source": [
    "\n",
    "#download the MPAS mesh from the github release\n",
    "sFilename_mpas = 'https://github.com/changliao1025/pyflowline/releases/download/0.2.0/lnd_cull_mesh.nc'\n",
    "\n",
    "#combind folder with filename to get the full path\n",
    "sFolder_data = os.path.join(sPath_parent, 'data')\n",
    "sFolder_data_susquehanna =  os.path.join(sFolder_data, 'susquehanna')\n",
    "sFolder_input = os.path.join(sFolder_data_susquehanna, 'input')\n",
    "\n",
    "sFilename_download = os.path.join(sFolder_input, 'mpas_mesh.nc')\n",
    "print(sFilename_download)\n",
    "\n",
    "# Send an HTTP GET request to the URL\n",
    "response = requests.get(sFilename_mpas)\n",
    "\n",
    "# Check if the request was successful\n",
    "if response.status_code == 200:\n",
    "    # Save the content of the response to the local file\n",
    "    with open(sFilename_download, 'wb') as file:\n",
    "        file.write(response.content)\n",
    "    print(f\"File '{sFilename_download}' downloaded successfully.\")\n",
    "else:\n",
    "    print(f\"Failed to download file from '{sFilename_mpas}'.\")"
   ]
  },
  {
   "cell_type": "markdown",
   "id": "25edfaeb",
   "metadata": {},
   "source": [
    "Now we can import a few python function within pyflowline.\n",
    "The pyflowline python package uses the OOP approach to manage each simulation."
   ]
  },
  {
   "cell_type": "code",
   "execution_count": null,
   "id": "9ad0e257",
   "metadata": {},
   "outputs": [],
   "source": [
    "#step 3\n",
    "#load the read configuration function\n",
    "from pyflowline.change_json_key_value import change_json_key_value\n",
    "from pyflowline.pyflowline_read_model_configuration_file import pyflowline_read_model_configuration_file"
   ]
  },
  {
   "attachments": {},
   "cell_type": "markdown",
   "id": "025169d4",
   "metadata": {},
   "source": [
    "pyflowline uses a json file for configuration, an example json file is provided.\n",
    "check whether a configuration exists"
   ]
  },
  {
   "cell_type": "code",
   "execution_count": null,
   "id": "25e0e653",
   "metadata": {},
   "outputs": [],
   "source": [
    "sFilename_configuration_in = realpath( sPath_parent +  '/examples/susquehanna/pyflowline_susquehanna_mpas.json' )\n",
    "if os.path.isfile(sFilename_configuration_in):\n",
    "    pass\n",
    "else:\n",
    "    print('This configuration does not exist: ', sFilename_configuration_in )"
   ]
  },
  {
   "cell_type": "code",
   "execution_count": null,
   "id": "394d0745",
   "metadata": {},
   "outputs": [],
   "source": [
    "#step 4B(optional)\n",
    "#we can check what is the content of this json file\n",
    "import json\n",
    "with open(sFilename_configuration_in, 'r') as pJSON:\n",
    "    parsed = json.load(pJSON)\n",
    "    print(json.dumps(parsed, indent=4))"
   ]
  },
  {
   "attachments": {},
   "cell_type": "markdown",
   "id": "85dc3a19",
   "metadata": {},
   "source": [
    "The meaning of these json keywords are explained in the pyflowline documentation: https://pyflowline.readthedocs.io/en/latest/data/data.html#inputs\n",
    "\n",
    "For some parameters, we can change them using the following function call.\n",
    "\n",
    "For some other parameters (e.g., path to file), you need to modify the json file using a text editor.\n",
    "\n",
    "If the function returns an error, you should update the json file(s). "
   ]
  },
  {
   "attachments": {},
   "cell_type": "markdown",
   "id": "33cce0f7",
   "metadata": {},
   "source": [
    "Now set up some keywords"
   ]
  },
  {
   "cell_type": "code",
   "execution_count": null,
   "id": "52820d49",
   "metadata": {},
   "outputs": [],
   "source": [
    "#step 5, set up some parameters\n",
    "sMesh_type = 'mpas'\n",
    "iCase_index = 1\n",
    "dResolution_meter=5000\n",
    "sDate='20230101'"
   ]
  },
  {
   "cell_type": "code",
   "execution_count": null,
   "id": "69f442ec",
   "metadata": {},
   "outputs": [],
   "source": [
    "#we need to update a few parameters in the configuration file before we can create the flowline object\n",
    "sFilename_basins =  realpath( os.path.join(sFolder_input , 'pyflowline_susquehanna_mpas_basins.json' ))\n",
    "sFilename_mesh_boundary = realpath(os.path.join(sFolder_input, 'boundary_wgs.geojson'))\n",
    "\n",
    "change_json_key_value(sFilename_configuration_in, 'sFilename_mesh_netcdf', sFilename_download)\n",
    "change_json_key_value(sFilename_configuration_in, 'sFilename_mesh_boundary', sFilename_mesh_boundary)\n",
    "change_json_key_value(sFilename_configuration_in, 'sFilename_basins', sFilename_basins)\n"
   ]
  },
  {
   "attachments": {},
   "cell_type": "markdown",
   "id": "98968ee9",
   "metadata": {},
   "source": [
    "we can now call the function to create an object"
   ]
  },
  {
   "cell_type": "code",
   "execution_count": null,
   "id": "2a221825",
   "metadata": {},
   "outputs": [],
   "source": [
    "#the read function accepts several keyword arguments that can be used to change the default parameters.\n",
    "#the normal keyword arguments are:\n",
    "#iCase_index_in: this is an ID to identify the simulation case\n",
    "#sMesh_type_in: this specifies the mesh type ('mpas' in this example)\n",
    "#sDate_in: this specifies the date of the simulation, the final output folder will have a pattern such as 'pyflowline20230901001', where pyflowline is model, 20230901 is the date, and 001 is the case index.\n",
    "oPyflowline = pyflowline_read_model_configuration_file(sFilename_configuration_in, iCase_index_in=iCase_index, \n",
    "                                                    sMesh_type_in= sMesh_type, sDate_in=sDate)"
   ]
  },
  {
   "cell_type": "code",
   "execution_count": null,
   "id": "17e011b8",
   "metadata": {},
   "outputs": [],
   "source": [
    "#other than setting the paraemeter using the read model configuration fucntion, user can also change model parameters after creating the model object\n",
    "#rememere that, it is recommended to set output folder using the read model configuration function since the change_model_parameter function will not update output folder\n",
    "#only a list of parameters can be changed, for full list, please check the documentation\n",
    "#in this example, we will change the mesh file name\n",
    "#the function will check the data type, if incorrect data type is provided, it will raise an error\n",
    "oPyflowline.change_model_parameter('sFilename_mesh_netcdf', sFilename_download) #because the mpas mesh already contains elevation, we do not need to set the elevation file name\n",
    "#we will set the boundary file name\n",
    "#this file should be located in the input folder\n",
    "oPyflowline.change_model_parameter('sFilename_mesh_boundary', sFilename_mesh_boundary)\n",
    "\n",
    "#we can also set for individual basin in the domain, in this example, we only has one basin.\n",
    "#remember that, each basin can have different parameters, so if you want to set them different (for example, basin 1 has no dam, but basin 2 has dam), you should edit the basin json instead using this function.\n",
    "#because change_model_parameter will set all the basin using the same parameter in current version\n",
    "#must set iFlag_basin_in = 1 for basin parameter\n",
    "oPyflowline.change_model_parameter('iFlag_dam', 0, iFlag_basin_in= 1)\n",
    "\n",
    "#we will set the original flowline file name\n",
    "sFilename_flowline = os.path.join(sFolder_input, 'flowline.geojson')\n",
    "oPyflowline.change_model_parameter('sFilename_flowline_filtered', sFilename_flowline, iFlag_basin_in= 1)\n",
    "\n"
   ]
  },
  {
   "attachments": {},
   "cell_type": "markdown",
   "id": "439971cd",
   "metadata": {},
   "source": [
    "You can review the setting again."
   ]
  },
  {
   "cell_type": "code",
   "execution_count": null,
   "id": "4e96d31d",
   "metadata": {},
   "outputs": [],
   "source": [
    "print(oPyflowline.tojson())"
   ]
  },
  {
   "attachments": {},
   "cell_type": "markdown",
   "id": "e1239843",
   "metadata": {},
   "source": [
    "If you are not certain of the outlet location, you can also set them up using:"
   ]
  },
  {
   "cell_type": "code",
   "execution_count": null,
   "id": "8c4e6526",
   "metadata": {},
   "outputs": [],
   "source": [
    "#another important setting for basin is the approximate outlet location\n",
    "oPyflowline.aBasin[0].dLatitude_outlet_degree=39.4620\n",
    "oPyflowline.aBasin[0].dLongitude_outlet_degree=-76.0093\n",
    "#you can also set it using the change_model_parameter function\n",
    "oPyflowline.change_model_parameter('dLongitude_outlet_degree', -76.0093, iFlag_basin_in = 1)\n",
    "oPyflowline.change_model_parameter('dLatitude_outlet_degree', 39.4620, iFlag_basin_in = 1)"
   ]
  },
  {
   "cell_type": "markdown",
   "id": "61f5b8ed",
   "metadata": {},
   "source": [
    "You can check the setting for the single basin as well"
   ]
  },
  {
   "cell_type": "code",
   "execution_count": null,
   "id": "edd17e3e",
   "metadata": {},
   "outputs": [],
   "source": [
    "print(oPyflowline.aBasin[0].tojson())"
   ]
  },
  {
   "attachments": {},
   "cell_type": "markdown",
   "id": "c432a723",
   "metadata": {},
   "source": [
    "After the case object was created, we can set up the model."
   ]
  },
  {
   "cell_type": "code",
   "execution_count": null,
   "id": "8d74fbfc",
   "metadata": {},
   "outputs": [],
   "source": [
    "#setup the model       \n",
    "oPyflowline.setup()"
   ]
  },
  {
   "attachments": {},
   "cell_type": "markdown",
   "id": "39507b33",
   "metadata": {},
   "source": [
    "Before any operation, we can visualize the original or raw flowline dataset. \n",
    "\n",
    "You can either use your own visualization method to view or map the model output.\n",
    "\n",
    "For example, if you want to use the built-in function, all you need to provide is a keyword (a look up table is provided in the documentation).\n",
    "Be default, all the dataset will be converted to the WGS84 system to maintain consistency.\n",
    "We can take a look at the user-provided flowline."
   ]
  },
  {
   "cell_type": "code",
   "execution_count": null,
   "id": "05c38d7f",
   "metadata": {},
   "outputs": [],
   "source": [
    "\n",
    "\n",
    "if iFlag_geopandas == 1:\n",
    "    import geopandas as gpd\n",
    "    import matplotlib.pyplot as plt\n",
    "    #use the geopanda package\n",
    "    #the raw/original geojson file \n",
    "    sFilename_geojson = oPyflowline.aBasin[0].sFilename_flowline_filter_geojson\n",
    "    gdf = gpd.read_file(sFilename_geojson)\n",
    "    gdf.plot()\n",
    "    plt.show()\n",
    "else:\n",
    "    print('The visulization packages are not installed.')\n",
    "pass\n",
    "    "
   ]
  },
  {
   "attachments": {},
   "cell_type": "markdown",
   "id": "8d3b8d00",
   "metadata": {},
   "source": [
    "You can also use QGIS or other Python libraries such as GeoPandas."
   ]
  },
  {
   "cell_type": "code",
   "execution_count": null,
   "id": "b6d5e2e0",
   "metadata": {},
   "outputs": [],
   "source": [
    "#the raw/original geojson file \n",
    "sFilename_geojson = oPyflowline.aBasin[0].sFilename_flowline_filter_geojson\n"
   ]
  },
  {
   "attachments": {},
   "cell_type": "markdown",
   "id": "09017d73",
   "metadata": {},
   "source": [
    "The plot function provides a few optional arguments such as map projection and spatial extent. \n",
    "By default, the spatial extent is full. \n",
    "But you can set the extent to a zoom-in region."
   ]
  },
  {
   "attachments": {},
   "cell_type": "markdown",
   "id": "e735b614",
   "metadata": {},
   "source": [
    "now let's run the three major steps/operations one by one."
   ]
  },
  {
   "cell_type": "code",
   "execution_count": null,
   "id": "689984cb",
   "metadata": {},
   "outputs": [],
   "source": [
    "#run step 1\n",
    "oPyflowline.flowline_simplification();"
   ]
  },
  {
   "attachments": {},
   "cell_type": "markdown",
   "id": "7c786cb7",
   "metadata": {},
   "source": [
    "and check the result using a plot"
   ]
  },
  {
   "cell_type": "code",
   "execution_count": null,
   "id": "d77190a1",
   "metadata": {},
   "outputs": [],
   "source": [
    "sFilename_geojson = oPyflowline.aBasin[0].sFilename_flowline_simplified_geojson\n",
    "gdf = gpd.read_file(sFilename_geojson)\n",
    "gdf.plot()\n",
    "plt.show()\n",
    "pass"
   ]
  },
  {
   "attachments": {},
   "cell_type": "markdown",
   "id": "fedd7947",
   "metadata": {},
   "source": [
    "Similarly, we can zoom in using the extent."
   ]
  },
  {
   "attachments": {},
   "cell_type": "markdown",
   "id": "e72a9453",
   "metadata": {},
   "source": [
    "Next, we will creata a mesh from the global MPAS mesh."
   ]
  },
  {
   "cell_type": "code",
   "execution_count": null,
   "id": "e898bc82",
   "metadata": {},
   "outputs": [],
   "source": [
    "#run step 2\n",
    "#we can either use a rectangle boundary\n",
    "oPyflowline.iFlag_mesh_boundary = 0 #set to 0 to disable polygon-based\n",
    "oPyflowline.dLongitude_left= -79\n",
    "oPyflowline.dLongitude_right= -74.5\n",
    "oPyflowline.dLatitude_bot= 39.20\n",
    "oPyflowline.dLatitude_top= 42.8\n",
    "\n",
    "aCell = oPyflowline.mesh_generation()"
   ]
  },
  {
   "cell_type": "code",
   "execution_count": null,
   "id": "20d90d3b",
   "metadata": {},
   "outputs": [],
   "source": [
    "\n",
    "#use the geopanda package\n",
    "#the raw/original geojson file \n",
    "sFilename_geojson = oPyflowline.aBasin[0].sFilename_mesh_geojson\n",
    "gdf = gpd.read_file(sFilename_geojson)\n",
    "gdf.plot()\n",
    "plt.show()\n",
    "pass"
   ]
  },
  {
   "attachments": {},
   "cell_type": "markdown",
   "id": "29e58f9b",
   "metadata": {},
   "source": [
    "we can also use a polygon to create a mesh"
   ]
  },
  {
   "cell_type": "code",
   "execution_count": null,
   "id": "98818161",
   "metadata": {},
   "outputs": [],
   "source": [
    "oPyflowline.iFlag_mesh_boundary = 1\n",
    "aCell = oPyflowline.mesh_generation()"
   ]
  },
  {
   "cell_type": "code",
   "execution_count": null,
   "id": "10b02b9c",
   "metadata": {},
   "outputs": [],
   "source": [
    "sFilename_geojson = oPyflowline.aBasin[0].sFilename_mesh_geojson\n",
    "gdf = gpd.read_file(sFilename_geojson)\n",
    "gdf.plot()\n",
    "plt.show()"
   ]
  },
  {
   "attachments": {},
   "cell_type": "markdown",
   "id": "9d8c3d26",
   "metadata": {},
   "source": [
    "Last, we can generate the conceptual flowline."
   ]
  },
  {
   "cell_type": "code",
   "execution_count": null,
   "id": "5f7c76d8",
   "metadata": {},
   "outputs": [],
   "source": [
    "#runs step 3\n",
    "oPyflowline.reconstruct_topological_relationship(aCell);"
   ]
  },
  {
   "attachments": {},
   "cell_type": "markdown",
   "id": "73df1fb2",
   "metadata": {},
   "source": [
    "Now we can overlap mesh with flowline."
   ]
  },
  {
   "cell_type": "code",
   "execution_count": null,
   "id": "61d6df7b",
   "metadata": {},
   "outputs": [],
   "source": [
    "\n",
    "\n",
    "    #\n",
    "file1_path = oPyflowline.aBasin[0].sFilename_mesh_geojson\n",
    "file2_path = oPyflowline.aBasin[0].sFilename_flowline_conceptual_geojson\n",
    "gdf1 = gpd.read_file(file1_path)\n",
    "gdf2 = gpd.read_file(file2_path)\n",
    "fig, ax = plt.subplots()\n",
    "gdf1.plot(ax=ax, color='blue')\n",
    "gdf2.plot(ax=ax, color='red')\n",
    "plt.show()\n",
    "pass"
   ]
  },
  {
   "attachments": {},
   "cell_type": "markdown",
   "id": "47ea8562",
   "metadata": {},
   "source": [
    "and take a close look at the outlet region"
   ]
  },
  {
   "cell_type": "code",
   "execution_count": null,
   "id": "b93fb6b1",
   "metadata": {},
   "outputs": [],
   "source": []
  },
  {
   "attachments": {},
   "cell_type": "markdown",
   "id": "33ce7f70",
   "metadata": {},
   "source": [
    "After this, we can save the model output into a json file."
   ]
  },
  {
   "cell_type": "code",
   "execution_count": null,
   "id": "e8efab4e",
   "metadata": {},
   "outputs": [],
   "source": [
    "#export output\n",
    "oPyflowline.export();"
   ]
  },
  {
   "attachments": {},
   "cell_type": "markdown",
   "id": "5c8c3f75",
   "metadata": {},
   "source": [
    "the content of the one of the exported json files can be checked:"
   ]
  },
  {
   "cell_type": "code",
   "execution_count": null,
   "id": "eb34bcee",
   "metadata": {},
   "outputs": [],
   "source": [
    "with open(oPyflowline.sFilename_mesh_info, 'r') as pJSON:\n",
    "    parsed = json.load(pJSON)\n",
    "    print(json.dumps(parsed[0], indent=4))\n",
    "    "
   ]
  },
  {
   "cell_type": "code",
   "execution_count": null,
   "id": "b27d7c95",
   "metadata": {},
   "outputs": [],
   "source": [
    "sFilename_flowline_conceptual_info= os.path.join(str(Path(oPyflowline.aBasin[0].sWorkspace_output_basin)  ), oPyflowline.aBasin[0].sFilename_flowline_conceptual_info  )    \n",
    "                \n",
    "with open(sFilename_flowline_conceptual_info, 'r') as pJSON:\n",
    "    parsed = json.load(pJSON)\n",
    "    print(json.dumps(parsed[0], indent=4))"
   ]
  },
  {
   "attachments": {},
   "cell_type": "markdown",
   "id": "9e07bc96",
   "metadata": {},
   "source": [
    "The outlet associated flowline is always assigned with a dam, because it would be preserved."
   ]
  },
  {
   "attachments": {},
   "cell_type": "markdown",
   "id": "e2f1bea7",
   "metadata": {},
   "source": [
    "Congratulations! You have successfully finished a pyflowline simulation."
   ]
  }
 ],
 "metadata": {
  "kernelspec": {
   "display_name": "hexwatershed",
   "language": "python",
   "name": "python3"
  },
  "language_info": {
   "codemirror_mode": {
    "name": "ipython",
    "version": 3
   },
   "file_extension": ".py",
   "mimetype": "text/x-python",
   "name": "python",
   "nbconvert_exporter": "python",
   "pygments_lexer": "ipython3",
   "version": "3.11.5"
  },
  "vscode": {
   "interpreter": {
    "hash": "79a4c0f6fdb3719d3372bd1edc1cf6b68731a08c9eb5f46b972d9360271030c3"
   }
  }
 },
 "nbformat": 4,
 "nbformat_minor": 5
}
