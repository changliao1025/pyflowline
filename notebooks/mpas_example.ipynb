{
 "cells": [
  {
   "attachments": {},
   "cell_type": "markdown",
   "id": "768807d8-ff92-4289-86eb-c9366edceafe",
   "metadata": {},
   "source": [
    "This is a tutorial pyflowline notebook.\n",
    "This tutorial is an example of the pyflowline application using a Model for Prediction Across Scales (MPAS) mesh.\n",
    "\n",
    "The following publication includes a comprehensive application:\n",
    "Liao, C., Zhou, T., Xu, D., Cooper, M. G., Engwirda, D., Li, H.-Y., & Leung, L. R. (2023). Topological relationship-based flow direction modeling: Mesh-independent river networks representation. Journal of Advances in Modeling Earth Systems, 15, e2022MS003089. https://doi.org/10.1029/2022MS003089\n",
    "\n",
    "The full documentation is hosted at: https://pyflowline.readthedocs.io\n",
    "\n",
    "In order the run this notebook, you must install the PyFlowline package and its dependencies. \n",
    "Besides, the visulization requires the optional dependency packages (see the full documentation installation section).\n",
    "You can also modify the notebook to use a different visualization method.\n"
   ]
  },
  {
   "attachments": {},
   "cell_type": "markdown",
   "id": "e047a116",
   "metadata": {},
   "source": [
    "First, let's load some Python libraries."
   ]
  },
  {
   "cell_type": "code",
   "execution_count": 1,
   "id": "d101804e",
   "metadata": {},
   "outputs": [],
   "source": [
    "#step 1\n",
    "import os\n",
    "import sys\n",
    "from pathlib import Path\n",
    "from os.path import realpath\n",
    "import importlib\n",
    "#install dependencies\n",
    "\n",
    "iFlag_numpy = importlib.util.find_spec(\"numpy\")\n",
    "iFlag_gdal = importlib.util.find_spec(\"osgeo\")\n",
    "iFlag_netcdf4 = importlib.util.find_spec(\"netCDF4\")\n",
    "iFlag_geopandas = importlib.util.find_spec(\"geopandas\")\n",
    "iFlag_requests = importlib.util.find_spec(\"requests\") #this one is only for downloading the data"
   ]
  },
  {
   "cell_type": "code",
   "execution_count": 2,
   "id": "4b2ca848",
   "metadata": {},
   "outputs": [],
   "source": [
    "if iFlag_numpy is not None:\n",
    "    pass\n",
    "else:\n",
    "    print(\"numpy is not installed\")"
   ]
  },
  {
   "cell_type": "code",
   "execution_count": 3,
   "id": "b4ba011d",
   "metadata": {},
   "outputs": [],
   "source": [
    "if iFlag_gdal is not None:\n",
    "    pass\n",
    "else:\n",
    "    print(\"gdal is not installed\")"
   ]
  },
  {
   "cell_type": "code",
   "execution_count": 4,
   "id": "f5c78ad3",
   "metadata": {},
   "outputs": [],
   "source": [
    "if iFlag_netcdf4 is not None:\n",
    "    pass\n",
    "else:\n",
    "    print(\"netCDF4 is not installed\")"
   ]
  },
  {
   "cell_type": "code",
   "execution_count": 5,
   "id": "4d2b0424",
   "metadata": {},
   "outputs": [],
   "source": [
    "if iFlag_geopandas is not None:\n",
    "    pass\n",
    "else:\n",
    "    print(\"geopandas is not installed\")"
   ]
  },
  {
   "cell_type": "code",
   "execution_count": 6,
   "id": "21dd10ee",
   "metadata": {},
   "outputs": [],
   "source": [
    "if iFlag_requests is not None:\n",
    "    pass\n",
    "else:\n",
    "    print(\"requests is not installed\")\n",
    "\n",
    "import requests"
   ]
  },
  {
   "cell_type": "markdown",
   "id": "bf81807a",
   "metadata": {},
   "source": [
    "Then we will check whether some additional packages are installed."
   ]
  },
  {
   "cell_type": "code",
   "execution_count": 7,
   "id": "a75e5100",
   "metadata": {},
   "outputs": [
    {
     "name": "stdout",
     "output_type": "stream",
     "text": [
      "C:\\workspace\\python\\pyflowline-main\n",
      "The pyflowline package is not installed. We will use the current path to set it up.\n"
     ]
    }
   ],
   "source": [
    "sPath_notebook = Path().resolve()\n",
    "sPath_parent = str(Path().resolve().parents[0]) \n",
    "print(sPath_parent)\n",
    "#check pyflowline installation\n",
    "iFlag_pyflowline = importlib.util.find_spec(\"pyflowline\") \n",
    "if iFlag_pyflowline is not None:\n",
    "    pass\n",
    "else:\n",
    "    print('The pyflowline package is not installed. We will use the current path to set it up.')\n",
    "    sys.path.append(sPath_parent)\n",
    "\n",
    "\n"
   ]
  },
  {
   "cell_type": "markdown",
   "id": "9f2f1520",
   "metadata": {},
   "source": [
    "We need to download an additional NetCDF file for this example.\n",
    "This file is stored on the Github release:\n",
    "https://github.com/changliao1025/pyflowline/releases/tag/0.2.0\n",
    "https://github.com/changliao1025/pyflowline/releases/download/0.2.0/lnd_cull_mesh.nc"
   ]
  },
  {
   "cell_type": "code",
   "execution_count": 8,
   "id": "c52960d0",
   "metadata": {},
   "outputs": [
    {
     "name": "stdout",
     "output_type": "stream",
     "text": [
      "C:\\workspace\\python\\pyflowline-main\\data\\susquehanna\\input\\mpas_mesh.nc\n",
      "File 'C:\\workspace\\python\\pyflowline-main\\data\\susquehanna\\input\\mpas_mesh.nc' downloaded successfully.\n"
     ]
    }
   ],
   "source": [
    "\n",
    "#download the MPAS mesh from the github release\n",
    "sFilename_mpas = 'https://github.com/changliao1025/pyflowline/releases/download/0.2.0/lnd_cull_mesh.nc'\n",
    "\n",
    "#combind folder with filename to get the full path\n",
    "sFolder_data = os.path.join(sPath_parent, 'data')\n",
    "sFolder_data_susquehanna =  os.path.join(sFolder_data, 'susquehanna')\n",
    "sFolder_input = os.path.join(sFolder_data_susquehanna, 'input')\n",
    "\n",
    "sFilename_download = os.path.join(sFolder_input, 'mpas_mesh.nc')\n",
    "print(sFilename_download)\n",
    "\n",
    "# Send an HTTP GET request to the URL\n",
    "response = requests.get(sFilename_mpas)\n",
    "\n",
    "# Check if the request was successful\n",
    "if response.status_code == 200:\n",
    "    # Save the content of the response to the local file\n",
    "    with open(sFilename_download, 'wb') as file:\n",
    "        file.write(response.content)\n",
    "    print(f\"File '{sFilename_download}' downloaded successfully.\")\n",
    "else:\n",
    "    print(f\"Failed to download file from '{sFilename_mpas}'.\")"
   ]
  },
  {
   "cell_type": "markdown",
   "id": "25edfaeb",
   "metadata": {},
   "source": [
    "Now we can import a few python function within pyflowline.\n",
    "The pyflowline python package uses the OOP approach to manage each simulation."
   ]
  },
  {
   "cell_type": "code",
   "execution_count": 9,
   "id": "9ad0e257",
   "metadata": {},
   "outputs": [],
   "source": [
    "#step 3\n",
    "#load the read configuration function\n",
    "from pyflowline.change_json_key_value import change_json_key_value\n",
    "from pyflowline.pyflowline_read_model_configuration_file import pyflowline_read_model_configuration_file"
   ]
  },
  {
   "attachments": {},
   "cell_type": "markdown",
   "id": "025169d4",
   "metadata": {},
   "source": [
    "pyflowline uses a json file for configuration, an example json file is provided.\n",
    "check whether a configuration exists"
   ]
  },
  {
   "cell_type": "code",
   "execution_count": 10,
   "id": "25e0e653",
   "metadata": {},
   "outputs": [],
   "source": [
    "sFilename_configuration_in = realpath( sPath_parent +  '/data/susquehanna/input/pyflowline_susquehanna_mpas.json' )\n",
    "if os.path.isfile(sFilename_configuration_in):\n",
    "    pass\n",
    "else:\n",
    "    print('This configuration does not exist: ', sFilename_configuration_in )"
   ]
  },
  {
   "cell_type": "code",
   "execution_count": 11,
   "id": "394d0745",
   "metadata": {},
   "outputs": [
    {
     "name": "stdout",
     "output_type": "stream",
     "text": [
      "{\n",
      "    \"sFilename_model_configuration\": \"/qfs/people/liao313/workspace/python/pyflowline/pyflowline/config/hexwatershed_susquehanna_mpas.json\",\n",
      "    \"sWorkspace_data\": \"/people/liao313/data\",\n",
      "    \"sWorkspace_output\": \"/compyfs/liao313/04model/pyflowline/susquehanna\",\n",
      "    \"sWorkspace_project\": \"/hexwatershed/susquehanna\",\n",
      "    \"sWorkspace_bin\": \"/people/liao313/bin\",\n",
      "    \"sRegion\": \"susquehanna\",\n",
      "    \"sModel\": \"pyflowline\",\n",
      "    \"sJob\": \"hex\",\n",
      "    \"iFlag_standalone\": 1,\n",
      "    \"iFlag_create_mesh\": 1,\n",
      "    \"iFlag_mesh_boundary\": 1,\n",
      "    \"iFlag_save_mesh\": 1,\n",
      "    \"iFlag_simplification\": 1,\n",
      "    \"iFlag_intersect\": 1,\n",
      "    \"iFlag_flowline\": 1,\n",
      "    \"iFlag_use_mesh_dem\": 1,\n",
      "    \"iFlag_global\": 0,\n",
      "    \"iFlag_multiple_outlet\": 0,\n",
      "    \"iFlag_rotation\": 0,\n",
      "    \"iCase_index\": 1,\n",
      "    \"iMesh_type\": 4,\n",
      "    \"dLongitude_left\": -79,\n",
      "    \"dLongitude_right\": -74.5,\n",
      "    \"dLatitude_bot\": 39.2,\n",
      "    \"dLatitude_top\": 42.8,\n",
      "    \"dResolution_degree\": 5000,\n",
      "    \"dResolution_meter\": 5000,\n",
      "    \"sDate\": \"20220110\",\n",
      "    \"sMesh_type\": \"mpas\",\n",
      "    \"sFilename_spatial_reference\": \"/qfs/people/liao313/workspace/python/pyhexwatershed_icom/data/susquehanna/input/boundary_proj_buff.shp\",\n",
      "    \"sFilename_dem\": \"/qfs/people/liao313/workspace/python/pyhexwatershed_icom/data/susquehanna/input/dem_buff_ext.tif\",\n",
      "    \"sFilename_mesh_netcdf\": \"/qfs/people/liao313/workspace/python/pyflowline/data/susquehanna/input/lnd_cull_mesh.nc\",\n",
      "    \"sFilename_mesh_boundary\": \"/qfs/people/liao313/workspace/python/pyflowline/data/susquehanna/input/boundary_wgs.geojson\",\n",
      "    \"sFilename_basins\": \"/qfs/people/liao313/workspace/python/pyflowline/examples/susquehanna/pyflowline_susquehanna_basins.json\"\n",
      "}\n"
     ]
    }
   ],
   "source": [
    "#step 4B(optional)\n",
    "#we can check what is the content of this json file\n",
    "import json\n",
    "with open(sFilename_configuration_in, 'r') as pJSON:\n",
    "    parsed = json.load(pJSON)\n",
    "    print(json.dumps(parsed, indent=4))"
   ]
  },
  {
   "attachments": {},
   "cell_type": "markdown",
   "id": "85dc3a19",
   "metadata": {},
   "source": [
    "The meaning of these json keywords are explained in the pyflowline documentation: https://pyflowline.readthedocs.io/en/latest/data/data.html#inputs\n",
    "\n",
    "For some parameters, we can change them using the following function call.\n",
    "\n",
    "For some other parameters (e.g., path to file), you need to modify the json file using a text editor.\n",
    "\n",
    "If the function returns an error, you should update the json file(s). "
   ]
  },
  {
   "attachments": {},
   "cell_type": "markdown",
   "id": "33cce0f7",
   "metadata": {},
   "source": [
    "Now set up some keywords"
   ]
  },
  {
   "cell_type": "code",
   "execution_count": 12,
   "id": "52820d49",
   "metadata": {},
   "outputs": [],
   "source": [
    "#step 5, set up some parameters\n",
    "sMesh_type = 'mpas'\n",
    "iCase_index = 1\n",
    "dResolution_meter=5000\n",
    "sDate='20230101'"
   ]
  },
  {
   "cell_type": "code",
   "execution_count": 13,
   "id": "69f442ec",
   "metadata": {},
   "outputs": [],
   "source": [
    "#we need to update a few parameters in the configuration file before we can create the flowline object\n",
    "sFilename_basins =  realpath( os.path.join(sFolder_input , 'pyflowline_susquehanna_basins.json' ))\n",
    "sFilename_mesh_boundary = realpath(os.path.join(sFolder_input, 'boundary_wgs.geojson'))\n",
    "\n",
    "change_json_key_value(sFilename_configuration_in, 'sFilename_mesh_netcdf', sFilename_download)\n",
    "change_json_key_value(sFilename_configuration_in, 'sFilename_mesh_boundary', sFilename_mesh_boundary)\n",
    "change_json_key_value(sFilename_configuration_in, 'sFilename_basins', sFilename_basins)\n",
    "\n",
    "sFilename_flowline = realpath( os.path.join(sFolder_input, 'flowline.geojson') )\n",
    "change_json_key_value(sFilename_basins, 'sFilename_flowline_filter', sFilename_flowline, iFlag_basin_in=1)\n",
    "sWorkspace_output = os.path.join(sFolder_data_susquehanna, 'output')\n",
    "change_json_key_value(sFilename_configuration_in, 'sWorkspace_output', sWorkspace_output)"
   ]
  },
  {
   "attachments": {},
   "cell_type": "markdown",
   "id": "98968ee9",
   "metadata": {},
   "source": [
    "we can now call the function to create an object"
   ]
  },
  {
   "cell_type": "code",
   "execution_count": 14,
   "id": "2a221825",
   "metadata": {},
   "outputs": [
    {
     "name": "stdout",
     "output_type": "stream",
     "text": [
      "/compyfs/liao313/04model/pyflowline/susquehanna\n"
     ]
    }
   ],
   "source": [
    "#the read function accepts several keyword arguments that can be used to change the default parameters.\n",
    "#the normal keyword arguments are:\n",
    "#iCase_index_in: this is an ID to identify the simulation case\n",
    "#sMesh_type_in: this specifies the mesh type ('mpas' in this example)\n",
    "#sDate_in: this specifies the date of the simulation, the final output folder will have a pattern such as 'pyflowline20230901001', where pyflowline is model, 20230901 is the date, and 001 is the case index.\n",
    "oPyflowline = pyflowline_read_model_configuration_file(sFilename_configuration_in, iCase_index_in=iCase_index, \n",
    "                                                    sMesh_type_in= sMesh_type, sDate_in=sDate)"
   ]
  },
  {
   "cell_type": "code",
   "execution_count": 15,
   "id": "17e011b8",
   "metadata": {},
   "outputs": [],
   "source": [
    "#other than setting the paraemeter using the read model configuration fucntion, user can also change model parameters after creating the model object\n",
    "#rememere that, it is recommended to set output folder using the read model configuration function since the change_model_parameter function will not update output folder\n",
    "#only a list of parameters can be changed, for full list, please check the documentation\n",
    "#in this example, we will change the mesh file name\n",
    "#the function will check the data type, if incorrect data type is provided, it will raise an error\n",
    "oPyflowline.change_model_parameter('sFilename_mesh_netcdf', sFilename_download) #because the mpas mesh already contains elevation, we do not need to set the elevation file name\n",
    "#we will set the boundary file name\n",
    "#this file should be located in the input folder\n",
    "oPyflowline.change_model_parameter('sFilename_mesh_boundary', sFilename_mesh_boundary)\n",
    "\n",
    "#we can also set for individual basin in the domain, in this example, we only has one basin.\n",
    "#remember that, each basin can have different parameters, so if you want to set them different (for example, basin 1 has no dam, but basin 2 has dam), you should edit the basin json instead using this function.\n",
    "#because change_model_parameter will set all the basin using the same parameter in current version\n",
    "#must set iFlag_basin_in = 1 for basin parameter\n",
    "oPyflowline.change_model_parameter('iFlag_dam', 0, iFlag_basin_in= 1)\n",
    "\n",
    "#we will set the original flowline file name\n",
    "\n",
    "\n"
   ]
  },
  {
   "attachments": {},
   "cell_type": "markdown",
   "id": "439971cd",
   "metadata": {},
   "source": [
    "You can review the setting again."
   ]
  },
  {
   "cell_type": "code",
   "execution_count": 16,
   "id": "4e96d31d",
   "metadata": {},
   "outputs": [
    {
     "name": "stdout",
     "output_type": "stream",
     "text": [
      "{\n",
      "    \"dLatitude_bot\": 39.2,\n",
      "    \"dLatitude_top\": 42.8,\n",
      "    \"dLongitude_left\": -79.0,\n",
      "    \"dLongitude_right\": -74.5,\n",
      "    \"dResolution_degree\": 5000.0,\n",
      "    \"dResolution_meter\": 5000.0,\n",
      "    \"iCase_index\": 1,\n",
      "    \"iFlag_break_by_distance\": 0,\n",
      "    \"iFlag_create_mesh\": 1,\n",
      "    \"iFlag_dggrid\": 0,\n",
      "    \"iFlag_flowline\": 1,\n",
      "    \"iFlag_global\": 0,\n",
      "    \"iFlag_intersect\": 1,\n",
      "    \"iFlag_mesh_boundary\": 1,\n",
      "    \"iFlag_multiple_outlet\": 0,\n",
      "    \"iFlag_rotation\": 0,\n",
      "    \"iFlag_save_mesh\": 1,\n",
      "    \"iFlag_simplification\": 1,\n",
      "    \"iFlag_standalone\": 1,\n",
      "    \"iFlag_use_mesh_dem\": 1,\n",
      "    \"iMesh_type\": 4,\n",
      "    \"iResolution_index\": 10,\n",
      "    \"sCase\": \"pyflowline20230101001\",\n",
      "    \"sDate\": \"20230101\",\n",
      "    \"sDggrid_type\": \"ISEA3H\",\n",
      "    \"sFilename_basins\": \"C:\\\\workspace\\\\python\\\\pyflowline-main\\\\data\\\\susquehanna\\\\input\\\\pyflowline_susquehanna_basins.json\",\n",
      "    \"sFilename_dem\": \"/qfs/people/liao313/workspace/python/pyhexwatershed_icom/data/susquehanna/input/dem_buff_ext.tif\",\n",
      "    \"sFilename_mesh\": \"\\\\compyfs\\\\liao313\\\\04model\\\\pyflowline\\\\susquehanna\\\\pyflowline20230101001\\\\mpas.geojson\",\n",
      "    \"sFilename_mesh_boundary\": \"C:\\\\workspace\\\\python\\\\pyflowline-main\\\\data\\\\susquehanna\\\\input\\\\boundary_wgs.geojson\",\n",
      "    \"sFilename_mesh_info\": \"\\\\compyfs\\\\liao313\\\\04model\\\\pyflowline\\\\susquehanna\\\\pyflowline20230101001\\\\mpas_mesh_info.json\",\n",
      "    \"sFilename_mesh_kml\": \"\\\\compyfs\\\\liao313\\\\04model\\\\pyflowline\\\\susquehanna\\\\pyflowline20230101001\\\\mpas.kml\",\n",
      "    \"sFilename_mesh_netcdf\": \"C:\\\\workspace\\\\python\\\\pyflowline-main\\\\data\\\\susquehanna\\\\input\\\\mpas_mesh.nc\",\n",
      "    \"sFilename_model_configuration\": \"C:\\\\workspace\\\\python\\\\pyflowline-main\\\\data\\\\susquehanna\\\\input\\\\pyflowline_susquehanna_mpas.json\",\n",
      "    \"sFilename_spatial_reference\": \"/qfs/people/liao313/workspace/python/pyhexwatershed_icom/data/susquehanna/input/boundary_proj_buff.shp\",\n",
      "    \"sJob\": \"hex\",\n",
      "    \"sMesh_type\": \"mpas\",\n",
      "    \"sModel\": \"pyflowline\",\n",
      "    \"sRegion\": \"susquehanna\",\n",
      "    \"sWorkspace_bin\": \"/people/liao313/bin\",\n",
      "    \"sWorkspace_output\": \"\\\\compyfs\\\\liao313\\\\04model\\\\pyflowline\\\\susquehanna\\\\pyflowline20230101001\"\n",
      "}\n"
     ]
    }
   ],
   "source": [
    "print(oPyflowline.tojson())"
   ]
  },
  {
   "attachments": {},
   "cell_type": "markdown",
   "id": "e1239843",
   "metadata": {},
   "source": [
    "If you are not certain of the outlet location, you can also set them up using:"
   ]
  },
  {
   "cell_type": "code",
   "execution_count": 17,
   "id": "8c4e6526",
   "metadata": {},
   "outputs": [],
   "source": [
    "#another important setting for basin is the approximate outlet location\n",
    "oPyflowline.aBasin[0].dLatitude_outlet_degree=39.4620\n",
    "oPyflowline.aBasin[0].dLongitude_outlet_degree=-76.0093\n",
    "#you can also set it using the change_model_parameter function\n",
    "oPyflowline.change_model_parameter('dLongitude_outlet_degree', -76.0093, iFlag_basin_in = 1)\n",
    "oPyflowline.change_model_parameter('dLatitude_outlet_degree', 39.4620, iFlag_basin_in = 1)"
   ]
  },
  {
   "cell_type": "markdown",
   "id": "61f5b8ed",
   "metadata": {},
   "source": [
    "You can check the setting for the single basin as well"
   ]
  },
  {
   "cell_type": "code",
   "execution_count": 19,
   "id": "edd17e3e",
   "metadata": {},
   "outputs": [
    {
     "name": "stdout",
     "output_type": "stream",
     "text": [
      "{\n",
      "    \"dAccumulation_threshold\": 100000.0,\n",
      "    \"dLatitude_outlet_degree\": 39.462,\n",
      "    \"dLongitude_outlet_degree\": -76.0093,\n",
      "    \"dThreshold_small_river\": 10000.0,\n",
      "    \"iFlag_dam\": 0,\n",
      "    \"iFlag_debug\": 1,\n",
      "    \"iFlag_disconnected\": 0,\n",
      "    \"iFlag_remove_low_order_river\": 0,\n",
      "    \"iFlag_remove_small_river\": 0,\n",
      "    \"iMesh_type\": 1,\n",
      "    \"lBasinID\": 1,\n",
      "    \"lCellID_outlet\": -1,\n",
      "    \"sBasinID\": \"00000001\",\n",
      "    \"sFilename_area_of_difference\": \"\\\\compyfs\\\\liao313\\\\04model\\\\pyflowline\\\\susquehanna\\\\pyflowline20230101001\\\\00000001\\\\area_of_difference.geojson\",\n",
      "    \"sFilename_basin_info\": \"\\\\compyfs\\\\liao313\\\\04model\\\\pyflowline\\\\susquehanna\\\\pyflowline20230101001\\\\00000001\\\\basin_info.json\",\n",
      "    \"sFilename_confluence_conceptual_info\": \"\\\\compyfs\\\\liao313\\\\04model\\\\pyflowline\\\\susquehanna\\\\pyflowline20230101001\\\\00000001\\\\confluence_conceptual_info.json\",\n",
      "    \"sFilename_confluence_simplified_info\": \"\\\\compyfs\\\\liao313\\\\04model\\\\pyflowline\\\\susquehanna\\\\pyflowline20230101001\\\\00000001\\\\confluence_simplified_info.json\",\n",
      "    \"sFilename_dam\": \"/qfs/people/liao313/data/hexwatershed/susquehanna/auxiliary/ICoM_dams.csv\",\n",
      "    \"sFilename_distance_to_outlet\": \"\\\\compyfs\\\\liao313\\\\04model\\\\pyflowline\\\\susquehanna\\\\pyflowline20230101001\\\\00000001\\\\distance_to_outlet.geojson\",\n",
      "    \"sFilename_drainage_area\": \"\\\\compyfs\\\\liao313\\\\04model\\\\pyflowline\\\\susquehanna\\\\pyflowline20230101001\\\\00000001\\\\drainage_area.geojson\",\n",
      "    \"sFilename_elevation\": \"\\\\compyfs\\\\liao313\\\\04model\\\\pyflowline\\\\susquehanna\\\\pyflowline20230101001\\\\00000001\\\\elevation.geojson\",\n",
      "    \"sFilename_flow_direction\": \"\\\\compyfs\\\\liao313\\\\04model\\\\pyflowline\\\\susquehanna\\\\pyflowline20230101001\\\\00000001\\\\flow_direction.geojson\",\n",
      "    \"sFilename_flowline_conceptual\": \"\\\\compyfs\\\\liao313\\\\04model\\\\pyflowline\\\\susquehanna\\\\pyflowline20230101001\\\\00000001\\\\flowline_conceptual.geojson\",\n",
      "    \"sFilename_flowline_conceptual_info\": \"\\\\compyfs\\\\liao313\\\\04model\\\\pyflowline\\\\susquehanna\\\\pyflowline20230101001\\\\00000001\\\\flowline_conceptual_info.json\",\n",
      "    \"sFilename_flowline_conceptual_kml\": \"\\\\compyfs\\\\liao313\\\\04model\\\\pyflowline\\\\susquehanna\\\\pyflowline20230101001\\\\00000001\\\\flowline_conceptual.kml\",\n",
      "    \"sFilename_flowline_edge\": \"\\\\compyfs\\\\liao313\\\\04model\\\\pyflowline\\\\susquehanna\\\\pyflowline20230101001\\\\00000001\\\\flowline_edge.geojson\",\n",
      "    \"sFilename_flowline_filter\": \"C:\\\\workspace\\\\python\\\\pyflowline-main\\\\data\\\\susquehanna\\\\input\\\\flowline.geojson\",\n",
      "    \"sFilename_flowline_filter_geojson\": \"\\\\compyfs\\\\liao313\\\\04model\\\\pyflowline\\\\susquehanna\\\\pyflowline20230101001\\\\00000001\\\\flowline_filter.geojson\",\n",
      "    \"sFilename_flowline_intersect\": \"\\\\compyfs\\\\liao313\\\\04model\\\\pyflowline\\\\susquehanna\\\\pyflowline20230101001\\\\00000001\\\\flowline_intersect_mesh.geojson\",\n",
      "    \"sFilename_flowline_raw\": \"/qfs/people/liao313/data/hexwatershed/susquehanna/vector/hydrology/allflowline.shp\",\n",
      "    \"sFilename_flowline_segment_index_before_intersect\": \"\\\\compyfs\\\\liao313\\\\04model\\\\pyflowline\\\\susquehanna\\\\pyflowline20230101001\\\\00000001\\\\flowline_segment_index_before_intersect.geojson\",\n",
      "    \"sFilename_flowline_simplified\": \"\\\\compyfs\\\\liao313\\\\04model\\\\pyflowline\\\\susquehanna\\\\pyflowline20230101001\\\\00000001\\\\flowline_simplified.geojson\",\n",
      "    \"sFilename_flowline_simplified_info\": \"\\\\compyfs\\\\liao313\\\\04model\\\\pyflowline\\\\susquehanna\\\\pyflowline20230101001\\\\00000001\\\\flowline_simplified_info.json\",\n",
      "    \"sFilename_flowline_split\": \"\\\\compyfs\\\\liao313\\\\04model\\\\pyflowline\\\\susquehanna\\\\pyflowline20230101001\\\\00000001\\\\flowline_split.geojson\",\n",
      "    \"sFilename_flowline_topo\": \"/qfs/people/liao313/data/hexwatershed/susquehanna/auxiliary/flowline.csv\",\n",
      "    \"sFilename_slope\": \"\\\\compyfs\\\\liao313\\\\04model\\\\pyflowline\\\\susquehanna\\\\pyflowline20230101001\\\\00000001\\\\slope.geojson\",\n",
      "    \"sFilename_stream_edge\": \"\\\\compyfs\\\\liao313\\\\04model\\\\pyflowline\\\\susquehanna\\\\pyflowline20230101001\\\\00000001\\\\stream_edge.geojson\",\n",
      "    \"sFilename_stream_edge_json\": \"\\\\compyfs\\\\liao313\\\\04model\\\\pyflowline\\\\susquehanna\\\\pyflowline20230101001\\\\00000001\\\\stream_edge.json\",\n",
      "    \"sFilename_stream_segment\": \"\\\\compyfs\\\\liao313\\\\04model\\\\pyflowline\\\\susquehanna\\\\pyflowline20230101001\\\\00000001\\\\stream_segment.geojson\",\n",
      "    \"sFilename_variable_polygon\": \"\\\\compyfs\\\\liao313\\\\04model\\\\pyflowline\\\\susquehanna\\\\pyflowline20230101001\\\\00000001\\\\variable_polygon.geojson\",\n",
      "    \"sFilename_variable_polyline\": \"\\\\compyfs\\\\liao313\\\\04model\\\\pyflowline\\\\susquehanna\\\\pyflowline20230101001\\\\00000001\\\\variable_polyline.geojson\",\n",
      "    \"sFilename_watershed_json\": \"\\\\compyfs\\\\liao313\\\\04model\\\\pyflowline\\\\susquehanna\\\\pyflowline20230101001\\\\00000001\\\\watershed.json\",\n",
      "    \"sMesh_type\": \"hexagon\",\n",
      "    \"sWorkspace_output_basin\": \"\\\\compyfs\\\\liao313\\\\04model\\\\pyflowline\\\\susquehanna\\\\pyflowline20230101001\\\\00000001\"\n",
      "}\n"
     ]
    }
   ],
   "source": [
    "print(oPyflowline.aBasin[0].tojson())"
   ]
  },
  {
   "attachments": {},
   "cell_type": "markdown",
   "id": "c432a723",
   "metadata": {},
   "source": [
    "After the case object was created, we can set up the model."
   ]
  },
  {
   "cell_type": "code",
   "execution_count": 18,
   "id": "8d74fbfc",
   "metadata": {},
   "outputs": [
    {
     "name": "stdout",
     "output_type": "stream",
     "text": [
      "Basin 00000001: initial flowline: C:\\workspace\\python\\pyflowline-main\\data\\susquehanna\\input\\flowline.geojson\n"
     ]
    }
   ],
   "source": [
    "#setup the model       \n",
    "oPyflowline.setup()"
   ]
  },
  {
   "attachments": {},
   "cell_type": "markdown",
   "id": "39507b33",
   "metadata": {},
   "source": [
    "Before any operation, we can visualize the original or raw flowline dataset. \n",
    "\n",
    "You can either use your own visualization method to view or map the model output.\n",
    "\n",
    "For example, if you want to use the built-in function, all you need to provide is a keyword (a look up table is provided in the documentation).\n",
    "Be default, all the dataset will be converted to the WGS84 system to maintain consistency.\n",
    "We can take a look at the user-provided flowline."
   ]
  },
  {
   "cell_type": "code",
   "execution_count": 20,
   "id": "05c38d7f",
   "metadata": {},
   "outputs": [
    {
     "data": {
      "image/png": "[encoded data removed]",
      "text/plain": [
       "<Figure size 640x480 with 1 Axes>"
      ]
     },
     "metadata": {},
     "output_type": "display_data"
    }
   ],
   "source": [
    "\n",
    "\n",
    "if iFlag_geopandas is not None:\n",
    "    import geopandas as gpd\n",
    "    import matplotlib.pyplot as plt\n",
    "    #use the geopanda package\n",
    "    #the raw/original geojson file \n",
    "    sFilename_geojson = oPyflowline.aBasin[0].sFilename_flowline_filter_geojson\n",
    "    gdf = gpd.read_file(sFilename_geojson)\n",
    "    gdf.plot()\n",
    "    plt.show()\n",
    "else:\n",
    "    print('The visulization packages are not installed.')\n",
    "pass\n",
    "    "
   ]
  },
  {
   "attachments": {},
   "cell_type": "markdown",
   "id": "8d3b8d00",
   "metadata": {},
   "source": [
    "You can also use QGIS or other Python libraries such as GeoPandas."
   ]
  },
  {
   "cell_type": "code",
   "execution_count": 21,
   "id": "b6d5e2e0",
   "metadata": {},
   "outputs": [],
   "source": [
    "#the raw/original geojson file \n",
    "sFilename_geojson = oPyflowline.aBasin[0].sFilename_flowline_filter_geojson\n"
   ]
  },
  {
   "attachments": {},
   "cell_type": "markdown",
   "id": "09017d73",
   "metadata": {},
   "source": [
    "The plot function provides a few optional arguments such as map projection and spatial extent. \n",
    "By default, the spatial extent is full. \n",
    "But you can set the extent to a zoom-in region."
   ]
  },
  {
   "attachments": {},
   "cell_type": "markdown",
   "id": "e735b614",
   "metadata": {},
   "source": [
    "now let's run the three major steps/operations one by one."
   ]
  },
  {
   "cell_type": "code",
   "execution_count": 22,
   "id": "689984cb",
   "metadata": {},
   "outputs": [
    {
     "name": "stdout",
     "output_type": "stream",
     "text": [
      "Start flowline simplification: 00000001\n",
      "Basin  00000001  has no dam\n",
      "Basin  00000001 find flowline vertex\n",
      "Elapsed time: 0.0032 seconds\n",
      "Basin  00000001 split flowline\n",
      "Elapsed time: 7.4150 seconds\n",
      "Basin  00000001 started correction flow direction\n",
      "Elapsed time: 2.4126 seconds\n",
      "Basin  00000001 started loop removal\n",
      "Elapsed time: 0.6283 seconds\n",
      "Basin  00000001 started update stream order initial\n",
      "Elapsed time: 1.0745 seconds\n",
      "Basin  00000001 find flowline confluence\n",
      "Elapsed time: 0.0508 seconds\n",
      "Basin  00000001 started stream segment definition\n",
      "Elapsed time: 0.0002 seconds\n",
      "Basin  00000001 started confluence definition\n",
      "Elapsed time: 0.0200 seconds\n",
      "Basin  00000001 started stream topology definition\n",
      "Elapsed time: 0.0003 seconds\n",
      "Basin  00000001 started stream order definition\n",
      "Elapsed time: 0.1069 seconds\n",
      "Finish flowline simplification: 00000001\n"
     ]
    }
   ],
   "source": [
    "#run step 1\n",
    "oPyflowline.flowline_simplification();"
   ]
  },
  {
   "attachments": {},
   "cell_type": "markdown",
   "id": "7c786cb7",
   "metadata": {},
   "source": [
    "and check the result using a plot"
   ]
  },
  {
   "cell_type": "code",
   "execution_count": 23,
   "id": "d77190a1",
   "metadata": {},
   "outputs": [
    {
     "ename": "AttributeError",
     "evalue": "'pybasin' object has no attribute 'sFilename_flowline_simplified_geojson'",
     "output_type": "error",
     "traceback": [
      "\u001b[1;31m---------------------------------------------------------------------------\u001b[0m",
      "\u001b[1;31mAttributeError\u001b[0m                            Traceback (most recent call last)",
      "\u001b[1;32mc:\\workspace\\python\\pyflowline-main\\notebooks\\mpas_example.ipynb Cell 41\u001b[0m line \u001b[0;36m1\n\u001b[1;32m----> <a href='vscode-notebook-cell:/c%3A/workspace/python/pyflowline-main/notebooks/mpas_example.ipynb#X55sZmlsZQ%3D%3D?line=0'>1</a>\u001b[0m sFilename_geojson \u001b[39m=\u001b[39m oPyflowline\u001b[39m.\u001b[39;49maBasin[\u001b[39m0\u001b[39;49m]\u001b[39m.\u001b[39;49msFilename_flowline_simplified_geojson\n\u001b[0;32m      <a href='vscode-notebook-cell:/c%3A/workspace/python/pyflowline-main/notebooks/mpas_example.ipynb#X55sZmlsZQ%3D%3D?line=1'>2</a>\u001b[0m gdf \u001b[39m=\u001b[39m gpd\u001b[39m.\u001b[39mread_file(sFilename_geojson)\n\u001b[0;32m      <a href='vscode-notebook-cell:/c%3A/workspace/python/pyflowline-main/notebooks/mpas_example.ipynb#X55sZmlsZQ%3D%3D?line=2'>3</a>\u001b[0m gdf\u001b[39m.\u001b[39mplot()\n",
      "\u001b[1;31mAttributeError\u001b[0m: 'pybasin' object has no attribute 'sFilename_flowline_simplified_geojson'"
     ]
    }
   ],
   "source": [
    "sFilename_geojson = oPyflowline.aBasin[0].sFilename_flowline_simplified\n",
    "gdf = gpd.read_file(sFilename_geojson)\n",
    "gdf.plot()\n",
    "plt.show()\n",
    "pass"
   ]
  },
  {
   "attachments": {},
   "cell_type": "markdown",
   "id": "fedd7947",
   "metadata": {},
   "source": [
    "Similarly, we can zoom in using the extent."
   ]
  },
  {
   "attachments": {},
   "cell_type": "markdown",
   "id": "e72a9453",
   "metadata": {},
   "source": [
    "Next, we will creata a mesh from the global MPAS mesh."
   ]
  },
  {
   "cell_type": "code",
   "execution_count": 24,
   "id": "e898bc82",
   "metadata": {},
   "outputs": [
    {
     "name": "stdout",
     "output_type": "stream",
     "text": [
      "Start mesh generation.\n",
      "80896\n",
      "Warning: nNeighbor != nVertex\n",
      "80919\n",
      "Warning: nNeighbor != nVertex\n",
      "87614\n",
      "Warning: nNeighbor != nVertex\n",
      "128884\n",
      "Warning: nNeighbor != nVertex\n",
      "128886\n",
      "Warning: nNeighbor != nVertex\n",
      "128887\n",
      "Warning: nNeighbor != nVertex\n",
      "150813\n",
      "Warning: nNeighbor != nVertex\n",
      "151026\n",
      "Warning: nNeighbor != nVertex\n",
      "151148\n",
      "Warning: nNeighbor != nVertex\n",
      "151150\n",
      "Warning: nNeighbor != nVertex\n",
      "151197\n",
      "Warning: nNeighbor != nVertex\n",
      "151227\n",
      "Warning: nNeighbor != nVertex\n",
      "151410\n",
      "Warning: nNeighbor != nVertex\n",
      "151477\n",
      "Warning: nNeighbor != nVertex\n",
      "151495\n",
      "Warning: nNeighbor != nVertex\n",
      "151514\n",
      "Warning: nNeighbor != nVertex\n",
      "151598\n",
      "Warning: nNeighbor != nVertex\n",
      "151649\n",
      "Warning: nNeighbor != nVertex\n",
      "151696\n",
      "Warning: nNeighbor != nVertex\n",
      "151742\n",
      "Warning: nNeighbor != nVertex\n",
      "151871\n",
      "Warning: nNeighbor != nVertex\n",
      "151885\n",
      "Warning: nNeighbor != nVertex\n",
      "151888\n",
      "Warning: nNeighbor != nVertex\n",
      "151889\n",
      "Warning: nNeighbor != nVertex\n",
      "151902\n",
      "Warning: nNeighbor != nVertex\n",
      "151909\n",
      "Warning: nNeighbor != nVertex\n",
      "151940\n",
      "Warning: nNeighbor != nVertex\n",
      "151947\n",
      "Warning: nNeighbor != nVertex\n",
      "151948\n",
      "Warning: nNeighbor != nVertex\n",
      "151953\n",
      "Warning: nNeighbor != nVertex\n",
      "151957\n",
      "Warning: nNeighbor != nVertex\n",
      "151960\n",
      "Warning: nNeighbor != nVertex\n",
      "151961\n",
      "Warning: nNeighbor != nVertex\n",
      "151963\n",
      "Warning: nNeighbor != nVertex\n",
      "151996\n",
      "Warning: nNeighbor != nVertex\n",
      "152014\n",
      "Warning: nNeighbor != nVertex\n",
      "152059\n",
      "Warning: nNeighbor != nVertex\n",
      "152524\n",
      "Warning: nNeighbor != nVertex\n",
      "152539\n",
      "Warning: nNeighbor != nVertex\n",
      "152542\n",
      "Warning: nNeighbor != nVertex\n",
      "152543\n",
      "Warning: nNeighbor != nVertex\n",
      "152544\n",
      "Warning: nNeighbor != nVertex\n",
      "152545\n",
      "Warning: nNeighbor != nVertex\n",
      "152546\n",
      "Warning: nNeighbor != nVertex\n",
      "152547\n",
      "Warning: nNeighbor != nVertex\n",
      "152549\n",
      "Warning: nNeighbor != nVertex\n",
      "152550\n",
      "Warning: nNeighbor != nVertex\n",
      "152551\n",
      "Warning: nNeighbor != nVertex\n",
      "152552\n",
      "Warning: nNeighbor != nVertex\n",
      "152553\n",
      "Warning: nNeighbor != nVertex\n",
      "152554\n",
      "Warning: nNeighbor != nVertex\n",
      "152556\n",
      "Warning: nNeighbor != nVertex\n",
      "152557\n",
      "Warning: nNeighbor != nVertex\n",
      "152559\n",
      "Warning: nNeighbor != nVertex\n",
      "152561\n",
      "Warning: nNeighbor != nVertex\n",
      "152562\n",
      "Warning: nNeighbor != nVertex\n",
      "152563\n",
      "Warning: nNeighbor != nVertex\n",
      "152564\n",
      "Warning: nNeighbor != nVertex\n",
      "152566\n",
      "Warning: nNeighbor != nVertex\n",
      "152568\n",
      "Warning: nNeighbor != nVertex\n",
      "152569\n",
      "Warning: nNeighbor != nVertex\n",
      "152659\n",
      "Warning: nNeighbor != nVertex\n",
      "152661\n",
      "Warning: nNeighbor != nVertex\n",
      "152667\n",
      "Warning: nNeighbor != nVertex\n",
      "152685\n",
      "Warning: nNeighbor != nVertex\n",
      "152692\n",
      "Warning: nNeighbor != nVertex\n",
      "152693\n",
      "Warning: nNeighbor != nVertex\n",
      "152697\n",
      "Warning: nNeighbor != nVertex\n",
      "152698\n",
      "Warning: nNeighbor != nVertex\n",
      "152754\n",
      "Warning: nNeighbor != nVertex\n",
      "152765\n",
      "Warning: nNeighbor != nVertex\n",
      "152768\n",
      "Warning: nNeighbor != nVertex\n",
      "152771\n",
      "Warning: nNeighbor != nVertex\n",
      "152800\n",
      "Warning: nNeighbor != nVertex\n",
      "152953\n",
      "Warning: nNeighbor != nVertex\n",
      "153155\n",
      "Warning: nNeighbor != nVertex\n",
      "153581\n",
      "Warning: nNeighbor != nVertex\n",
      "153779\n",
      "Warning: nNeighbor != nVertex\n",
      "153863\n",
      "Warning: nNeighbor != nVertex\n",
      "153864\n",
      "Warning: nNeighbor != nVertex\n",
      "153865\n",
      "Warning: nNeighbor != nVertex\n",
      "153879\n",
      "Warning: nNeighbor != nVertex\n",
      "153904\n",
      "Warning: nNeighbor != nVertex\n",
      "153927\n",
      "Warning: nNeighbor != nVertex\n",
      "153928\n",
      "Warning: nNeighbor != nVertex\n",
      "154090\n",
      "Warning: nNeighbor != nVertex\n",
      "154103\n",
      "Warning: nNeighbor != nVertex\n",
      "154121\n",
      "Warning: nNeighbor != nVertex\n",
      "154391\n",
      "Warning: nNeighbor != nVertex\n",
      "154510\n",
      "Warning: nNeighbor != nVertex\n",
      "154554\n",
      "Warning: nNeighbor != nVertex\n",
      "154641\n",
      "Warning: nNeighbor != nVertex\n",
      "154889\n",
      "Warning: nNeighbor != nVertex\n",
      "155059\n",
      "Warning: nNeighbor != nVertex\n",
      "155389\n",
      "Warning: nNeighbor != nVertex\n",
      "155420\n",
      "Warning: nNeighbor != nVertex\n",
      "155539\n",
      "Warning: nNeighbor != nVertex\n",
      "156032\n",
      "Warning: nNeighbor != nVertex\n",
      "156059\n",
      "Warning: nNeighbor != nVertex\n",
      "156446\n",
      "Warning: nNeighbor != nVertex\n",
      "156447\n",
      "Warning: nNeighbor != nVertex\n",
      "156460\n",
      "Warning: nNeighbor != nVertex\n",
      "156461\n",
      "Warning: nNeighbor != nVertex\n",
      "156583\n",
      "Warning: nNeighbor != nVertex\n",
      "156586\n",
      "Warning: nNeighbor != nVertex\n",
      "156587\n",
      "Warning: nNeighbor != nVertex\n",
      "156588\n",
      "Warning: nNeighbor != nVertex\n",
      "156589\n",
      "Warning: nNeighbor != nVertex\n",
      "156711\n",
      "Warning: nNeighbor != nVertex\n",
      "156783\n",
      "Warning: nNeighbor != nVertex\n",
      "156871\n",
      "Warning: nNeighbor != nVertex\n",
      "157007\n",
      "Warning: nNeighbor != nVertex\n",
      "157348\n",
      "Warning: nNeighbor != nVertex\n",
      "157392\n",
      "Warning: nNeighbor != nVertex\n",
      "157619\n",
      "Warning: nNeighbor != nVertex\n",
      "157620\n",
      "Warning: nNeighbor != nVertex\n",
      "157674\n",
      "Warning: nNeighbor != nVertex\n",
      "157842\n",
      "Warning: nNeighbor != nVertex\n",
      "157993\n",
      "Warning: nNeighbor != nVertex\n",
      "157994\n",
      "Warning: nNeighbor != nVertex\n",
      "158048\n",
      "Warning: nNeighbor != nVertex\n",
      "158049\n",
      "Warning: nNeighbor != nVertex\n",
      "158051\n",
      "Warning: nNeighbor != nVertex\n",
      "158204\n",
      "Warning: nNeighbor != nVertex\n",
      "158205\n",
      "Warning: nNeighbor != nVertex\n",
      "158278\n",
      "Warning: nNeighbor != nVertex\n",
      "158420\n",
      "Warning: nNeighbor != nVertex\n",
      "158572\n",
      "Warning: nNeighbor != nVertex\n",
      "158693\n",
      "Warning: nNeighbor != nVertex\n",
      "158694\n",
      "Warning: nNeighbor != nVertex\n",
      "158871\n",
      "Warning: nNeighbor != nVertex\n",
      "158942\n",
      "Warning: nNeighbor != nVertex\n",
      "159043\n",
      "Warning: nNeighbor != nVertex\n",
      "159278\n",
      "Warning: nNeighbor != nVertex\n",
      "159280\n",
      "Warning: nNeighbor != nVertex\n",
      "159281\n",
      "Warning: nNeighbor != nVertex\n",
      "159307\n",
      "Warning: nNeighbor != nVertex\n",
      "159481\n",
      "Warning: nNeighbor != nVertex\n",
      "159731\n",
      "Warning: nNeighbor != nVertex\n",
      "159732\n",
      "Warning: nNeighbor != nVertex\n",
      "159862\n",
      "Warning: nNeighbor != nVertex\n",
      "159889\n",
      "Warning: nNeighbor != nVertex\n",
      "159905\n",
      "Warning: nNeighbor != nVertex\n",
      "159906\n",
      "Warning: nNeighbor != nVertex\n",
      "159965\n",
      "Warning: nNeighbor != nVertex\n",
      "159988\n",
      "Warning: nNeighbor != nVertex\n",
      "160146\n",
      "Warning: nNeighbor != nVertex\n",
      "160260\n",
      "Warning: nNeighbor != nVertex\n",
      "160435\n",
      "Warning: nNeighbor != nVertex\n",
      "161700\n",
      "Warning: nNeighbor != nVertex\n",
      "161925\n",
      "Warning: nNeighbor != nVertex\n",
      "161961\n",
      "Warning: nNeighbor != nVertex\n",
      "161962\n",
      "Warning: nNeighbor != nVertex\n",
      "162142\n",
      "Warning: nNeighbor != nVertex\n",
      "162217\n",
      "Warning: nNeighbor != nVertex\n",
      "162280\n",
      "Warning: nNeighbor != nVertex\n",
      "162611\n",
      "Warning: nNeighbor != nVertex\n",
      "162683\n",
      "Warning: nNeighbor != nVertex\n",
      "162975\n",
      "Warning: nNeighbor != nVertex\n",
      "162977\n",
      "Warning: nNeighbor != nVertex\n",
      "163138\n",
      "Warning: nNeighbor != nVertex\n",
      "163409\n",
      "Warning: nNeighbor != nVertex\n",
      "163505\n",
      "Warning: nNeighbor != nVertex\n",
      "163561\n",
      "Warning: nNeighbor != nVertex\n",
      "163593\n",
      "Warning: nNeighbor != nVertex\n",
      "163860\n",
      "Warning: nNeighbor != nVertex\n",
      "163861\n",
      "Warning: nNeighbor != nVertex\n",
      "164119\n",
      "Warning: nNeighbor != nVertex\n",
      "164179\n",
      "Warning: nNeighbor != nVertex\n",
      "164234\n",
      "Warning: nNeighbor != nVertex\n",
      "164371\n",
      "Warning: nNeighbor != nVertex\n",
      "164459\n",
      "Warning: nNeighbor != nVertex\n",
      "164555\n",
      "Warning: nNeighbor != nVertex\n",
      "164585\n",
      "Warning: nNeighbor != nVertex\n",
      "164670\n",
      "Warning: nNeighbor != nVertex\n",
      "164672\n",
      "Warning: nNeighbor != nVertex\n",
      "164690\n",
      "Warning: nNeighbor != nVertex\n",
      "164711\n",
      "Warning: nNeighbor != nVertex\n",
      "164712\n",
      "Warning: nNeighbor != nVertex\n",
      "164732\n",
      "Warning: nNeighbor != nVertex\n",
      "164759\n",
      "Warning: nNeighbor != nVertex\n",
      "164764\n",
      "Warning: nNeighbor != nVertex\n",
      "164771\n",
      "Warning: nNeighbor != nVertex\n",
      "164804\n",
      "Warning: nNeighbor != nVertex\n",
      "164853\n",
      "Warning: nNeighbor != nVertex\n",
      "164854\n",
      "Warning: nNeighbor != nVertex\n",
      "164899\n",
      "Warning: nNeighbor != nVertex\n",
      "164924\n",
      "Warning: nNeighbor != nVertex\n",
      "165002\n",
      "Warning: nNeighbor != nVertex\n",
      "165007\n",
      "Warning: nNeighbor != nVertex\n",
      "165010\n",
      "Warning: nNeighbor != nVertex\n",
      "165037\n",
      "Warning: nNeighbor != nVertex\n",
      "165052\n",
      "Warning: nNeighbor != nVertex\n",
      "165055\n",
      "Warning: nNeighbor != nVertex\n",
      "165070\n",
      "Warning: nNeighbor != nVertex\n",
      "165085\n",
      "Warning: nNeighbor != nVertex\n",
      "165122\n",
      "Warning: nNeighbor != nVertex\n",
      "165126\n",
      "Warning: nNeighbor != nVertex\n",
      "165132\n",
      "Warning: nNeighbor != nVertex\n",
      "165158\n",
      "Warning: nNeighbor != nVertex\n",
      "165159\n",
      "Warning: nNeighbor != nVertex\n",
      "165161\n",
      "Warning: nNeighbor != nVertex\n",
      "165177\n",
      "Warning: nNeighbor != nVertex\n",
      "165216\n",
      "Warning: nNeighbor != nVertex\n",
      "165222\n",
      "Warning: nNeighbor != nVertex\n",
      "165223\n",
      "Warning: nNeighbor != nVertex\n",
      "165233\n",
      "Warning: nNeighbor != nVertex\n",
      "165235\n",
      "Warning: nNeighbor != nVertex\n",
      "165236\n",
      "Warning: nNeighbor != nVertex\n",
      "165245\n",
      "Warning: nNeighbor != nVertex\n",
      "165279\n",
      "Warning: nNeighbor != nVertex\n",
      "165293\n",
      "Warning: nNeighbor != nVertex\n",
      "165305\n",
      "Warning: nNeighbor != nVertex\n",
      "165317\n",
      "Warning: nNeighbor != nVertex\n",
      "165345\n",
      "Warning: nNeighbor != nVertex\n",
      "165360\n",
      "Warning: nNeighbor != nVertex\n",
      "165394\n",
      "Warning: nNeighbor != nVertex\n",
      "165397\n",
      "Warning: nNeighbor != nVertex\n",
      "165404\n",
      "Warning: nNeighbor != nVertex\n",
      "165405\n",
      "Warning: nNeighbor != nVertex\n",
      "165416\n",
      "Warning: nNeighbor != nVertex\n",
      "165454\n",
      "Warning: nNeighbor != nVertex\n",
      "165458\n",
      "Warning: nNeighbor != nVertex\n",
      "165465\n",
      "Warning: nNeighbor != nVertex\n",
      "165470\n",
      "Warning: nNeighbor != nVertex\n",
      "165477\n",
      "Warning: nNeighbor != nVertex\n",
      "165493\n",
      "Warning: nNeighbor != nVertex\n",
      "165504\n",
      "Warning: nNeighbor != nVertex\n",
      "165508\n",
      "Warning: nNeighbor != nVertex\n",
      "165513\n",
      "Warning: nNeighbor != nVertex\n",
      "165516\n",
      "Warning: nNeighbor != nVertex\n",
      "165543\n",
      "Warning: nNeighbor != nVertex\n",
      "165545\n",
      "Warning: nNeighbor != nVertex\n",
      "165548\n",
      "Warning: nNeighbor != nVertex\n",
      "165551\n",
      "Warning: nNeighbor != nVertex\n",
      "165561\n",
      "Warning: nNeighbor != nVertex\n",
      "165580\n",
      "Warning: nNeighbor != nVertex\n",
      "165598\n",
      "Warning: nNeighbor != nVertex\n",
      "165603\n",
      "Warning: nNeighbor != nVertex\n",
      "165616\n",
      "Warning: nNeighbor != nVertex\n",
      "165620\n",
      "Warning: nNeighbor != nVertex\n",
      "165629\n",
      "Warning: nNeighbor != nVertex\n",
      "165634\n",
      "Warning: nNeighbor != nVertex\n",
      "165636\n",
      "Warning: nNeighbor != nVertex\n",
      "165645\n",
      "Warning: nNeighbor != nVertex\n",
      "165677\n",
      "Warning: nNeighbor != nVertex\n",
      "165685\n",
      "Warning: nNeighbor != nVertex\n",
      "165736\n",
      "Warning: nNeighbor != nVertex\n",
      "165772\n",
      "Warning: nNeighbor != nVertex\n",
      "165788\n",
      "Warning: nNeighbor != nVertex\n",
      "165831\n",
      "Warning: nNeighbor != nVertex\n",
      "165841\n",
      "Warning: nNeighbor != nVertex\n",
      "165875\n",
      "Warning: nNeighbor != nVertex\n",
      "165876\n",
      "Warning: nNeighbor != nVertex\n",
      "165881\n",
      "Warning: nNeighbor != nVertex\n",
      "165892\n",
      "Warning: nNeighbor != nVertex\n",
      "165894\n",
      "Warning: nNeighbor != nVertex\n",
      "165922\n",
      "Warning: nNeighbor != nVertex\n",
      "165962\n",
      "Warning: nNeighbor != nVertex\n",
      "165964\n",
      "Warning: nNeighbor != nVertex\n",
      "165986\n",
      "Warning: nNeighbor != nVertex\n",
      "165987\n",
      "Warning: nNeighbor != nVertex\n",
      "165990\n",
      "Warning: nNeighbor != nVertex\n",
      "165995\n",
      "Warning: nNeighbor != nVertex\n",
      "166048\n",
      "Warning: nNeighbor != nVertex\n",
      "166078\n",
      "Warning: nNeighbor != nVertex\n",
      "166087\n",
      "Warning: nNeighbor != nVertex\n",
      "166101\n",
      "Warning: nNeighbor != nVertex\n",
      "166102\n",
      "Warning: nNeighbor != nVertex\n",
      "166111\n",
      "Warning: nNeighbor != nVertex\n",
      "166112\n",
      "Warning: nNeighbor != nVertex\n",
      "166113\n",
      "Warning: nNeighbor != nVertex\n",
      "166116\n",
      "Warning: nNeighbor != nVertex\n",
      "166123\n",
      "Warning: nNeighbor != nVertex\n",
      "166128\n",
      "Warning: nNeighbor != nVertex\n",
      "166141\n",
      "Warning: nNeighbor != nVertex\n",
      "166170\n",
      "Warning: nNeighbor != nVertex\n",
      "166182\n",
      "Warning: nNeighbor != nVertex\n",
      "166188\n",
      "Warning: nNeighbor != nVertex\n",
      "166193\n",
      "Warning: nNeighbor != nVertex\n",
      "166195\n",
      "Warning: nNeighbor != nVertex\n",
      "166202\n",
      "Warning: nNeighbor != nVertex\n",
      "166205\n",
      "Warning: nNeighbor != nVertex\n",
      "166219\n",
      "Warning: nNeighbor != nVertex\n",
      "166224\n",
      "Warning: nNeighbor != nVertex\n",
      "166245\n",
      "Warning: nNeighbor != nVertex\n",
      "166246\n",
      "Warning: nNeighbor != nVertex\n",
      "166248\n",
      "Warning: nNeighbor != nVertex\n",
      "166249\n",
      "Warning: nNeighbor != nVertex\n",
      "166256\n",
      "Warning: nNeighbor != nVertex\n",
      "166261\n",
      "Warning: nNeighbor != nVertex\n",
      "166266\n",
      "Warning: nNeighbor != nVertex\n",
      "166303\n",
      "Warning: nNeighbor != nVertex\n",
      "80895\n",
      "Warning: nNeighbor != nVertex\n",
      "165654\n",
      "Warning: nNeighbor != nVertex\n",
      "160337\n",
      "Warning: nNeighbor != nVertex\n",
      "165209\n",
      "Warning: nNeighbor != nVertex\n",
      "165497\n",
      "Warning: nNeighbor != nVertex\n"
     ]
    }
   ],
   "source": [
    "#run step 2\n",
    "#we can either use a rectangle boundary\n",
    "oPyflowline.iFlag_mesh_boundary = 0 #set to 0 to disable polygon-based\n",
    "oPyflowline.dLongitude_left= -79\n",
    "oPyflowline.dLongitude_right= -74.5\n",
    "oPyflowline.dLatitude_bot= 39.20\n",
    "oPyflowline.dLatitude_top= 42.8\n",
    "\n",
    "aCell = oPyflowline.mesh_generation()"
   ]
  },
  {
   "cell_type": "code",
   "execution_count": 26,
   "id": "20d90d3b",
   "metadata": {},
   "outputs": [
    {
     "ename": "AttributeError",
     "evalue": "'flowlinecase' object has no attribute 'sFilename_mesh_geojson'",
     "output_type": "error",
     "traceback": [
      "\u001b[1;31m---------------------------------------------------------------------------\u001b[0m",
      "\u001b[1;31mAttributeError\u001b[0m                            Traceback (most recent call last)",
      "\u001b[1;32mc:\\workspace\\python\\pyflowline-main\\notebooks\\mpas_example.ipynb Cell 45\u001b[0m line \u001b[0;36m3\n\u001b[0;32m      <a href='vscode-notebook-cell:/c%3A/workspace/python/pyflowline-main/notebooks/mpas_example.ipynb#X62sZmlsZQ%3D%3D?line=0'>1</a>\u001b[0m \u001b[39m#use the geopanda package\u001b[39;00m\n\u001b[0;32m      <a href='vscode-notebook-cell:/c%3A/workspace/python/pyflowline-main/notebooks/mpas_example.ipynb#X62sZmlsZQ%3D%3D?line=1'>2</a>\u001b[0m \u001b[39m#the raw/original geojson file \u001b[39;00m\n\u001b[1;32m----> <a href='vscode-notebook-cell:/c%3A/workspace/python/pyflowline-main/notebooks/mpas_example.ipynb#X62sZmlsZQ%3D%3D?line=2'>3</a>\u001b[0m sFilename_geojson \u001b[39m=\u001b[39m oPyflowline\u001b[39m.\u001b[39;49msFilename_mesh_geojson\n\u001b[0;32m      <a href='vscode-notebook-cell:/c%3A/workspace/python/pyflowline-main/notebooks/mpas_example.ipynb#X62sZmlsZQ%3D%3D?line=3'>4</a>\u001b[0m gdf \u001b[39m=\u001b[39m gpd\u001b[39m.\u001b[39mread_file(sFilename_geojson)\n\u001b[0;32m      <a href='vscode-notebook-cell:/c%3A/workspace/python/pyflowline-main/notebooks/mpas_example.ipynb#X62sZmlsZQ%3D%3D?line=4'>5</a>\u001b[0m gdf\u001b[39m.\u001b[39mplot()\n",
      "\u001b[1;31mAttributeError\u001b[0m: 'flowlinecase' object has no attribute 'sFilename_mesh_geojson'"
     ]
    }
   ],
   "source": [
    "\n",
    "#use the geopanda package\n",
    "#the raw/original geojson file \n",
    "sFilename_geojson = oPyflowline.sFilename_mesh\n",
    "gdf = gpd.read_file(sFilename_geojson)\n",
    "gdf.plot()\n",
    "plt.show()\n",
    "pass"
   ]
  },
  {
   "attachments": {},
   "cell_type": "markdown",
   "id": "29e58f9b",
   "metadata": {},
   "source": [
    "we can also use a polygon to create a mesh"
   ]
  },
  {
   "cell_type": "code",
   "execution_count": null,
   "id": "98818161",
   "metadata": {},
   "outputs": [],
   "source": [
    "oPyflowline.iFlag_mesh_boundary = 1\n",
    "aCell = oPyflowline.mesh_generation()"
   ]
  },
  {
   "cell_type": "code",
   "execution_count": null,
   "id": "10b02b9c",
   "metadata": {},
   "outputs": [],
   "source": [
    "sFilename_geojson = oPyflowline.aBasin[0].sFilename_mesh_geojson\n",
    "gdf = gpd.read_file(sFilename_geojson)\n",
    "gdf.plot()\n",
    "plt.show()"
   ]
  },
  {
   "attachments": {},
   "cell_type": "markdown",
   "id": "9d8c3d26",
   "metadata": {},
   "source": [
    "Last, we can generate the conceptual flowline."
   ]
  },
  {
   "cell_type": "code",
   "execution_count": 28,
   "id": "5f7c76d8",
   "metadata": {},
   "outputs": [
    {
     "name": "stdout",
     "output_type": "stream",
     "text": [
      "Start topology reconstruction.\n",
      "Basin  00000001 Start topology reconstruction\n",
      "Basin  00000001 Start flowline and mesh intersection\n",
      "Elapsed time: 511.0053 seconds\n",
      "Basin  00000001 Start return flowline removal\n",
      "Elapsed time: 0.8706 seconds\n",
      "Basin  00000001 Start split flowline to edge\n",
      "Elapsed time: 0.0025 seconds\n",
      "Basin  00000001 Start remove duplicate flowline\n",
      "Elapsed time: 0.0526 seconds\n",
      "Basin  00000001 Start flowline direction correction\n",
      "Elapsed time: 0.0528 seconds\n",
      "Basin  00000001 Start flowline direction correction\n",
      "Elapsed time: 0.0227 seconds\n",
      "Basin  00000001 Start find flowline confluence\n",
      "Elapsed time: 0.0436 seconds\n",
      "Basin  00000001 Start merge flowline\n",
      "Elapsed time: 0.1086 seconds\n",
      "Basin  00000001 Start find flowline confluence\n",
      "Elapsed time: 0.0006 seconds\n",
      "Basin  00000001 started stream topology definition\n",
      "Elapsed time: 0.0000 seconds\n",
      "Finish topology reconstruction: 00000001\n",
      "Finish topology reconstruction.\n"
     ]
    }
   ],
   "source": [
    "#runs step 3\n",
    "oPyflowline.reconstruct_topological_relationship();"
   ]
  },
  {
   "attachments": {},
   "cell_type": "markdown",
   "id": "73df1fb2",
   "metadata": {},
   "source": [
    "Now we can overlap mesh with flowline."
   ]
  },
  {
   "cell_type": "code",
   "execution_count": null,
   "id": "61d6df7b",
   "metadata": {},
   "outputs": [],
   "source": [
    "\n",
    "\n",
    "    #\n",
    "file1_path = oPyflowline.sFilename_mesh\n",
    "file2_path = oPyflowline.aBasin[0].sFilename_flowline_conceptual\n",
    "gdf1 = gpd.read_file(file1_path)\n",
    "gdf2 = gpd.read_file(file2_path)\n",
    "fig, ax = plt.subplots()\n",
    "gdf1.plot(ax=ax, color='blue')\n",
    "gdf2.plot(ax=ax, color='red')\n",
    "plt.show()\n",
    "pass"
   ]
  },
  {
   "attachments": {},
   "cell_type": "markdown",
   "id": "47ea8562",
   "metadata": {},
   "source": [
    "and take a close look at the outlet region"
   ]
  },
  {
   "cell_type": "code",
   "execution_count": null,
   "id": "b93fb6b1",
   "metadata": {},
   "outputs": [],
   "source": []
  },
  {
   "attachments": {},
   "cell_type": "markdown",
   "id": "33ce7f70",
   "metadata": {},
   "source": [
    "After this, we can save the model output into a json file."
   ]
  },
  {
   "cell_type": "code",
   "execution_count": 29,
   "id": "e8efab4e",
   "metadata": {},
   "outputs": [],
   "source": [
    "#export output\n",
    "oPyflowline.export();"
   ]
  },
  {
   "attachments": {},
   "cell_type": "markdown",
   "id": "5c8c3f75",
   "metadata": {},
   "source": [
    "the content of the one of the exported json files can be checked:"
   ]
  },
  {
   "cell_type": "code",
   "execution_count": 30,
   "id": "eb34bcee",
   "metadata": {},
   "outputs": [
    {
     "ename": "IndexError",
     "evalue": "list index out of range",
     "output_type": "error",
     "traceback": [
      "\u001b[1;31m---------------------------------------------------------------------------\u001b[0m",
      "\u001b[1;31mIndexError\u001b[0m                                Traceback (most recent call last)",
      "\u001b[1;32mc:\\workspace\\python\\pyflowline-main\\notebooks\\mpas_example.ipynb Cell 58\u001b[0m line \u001b[0;36m3\n\u001b[0;32m      <a href='vscode-notebook-cell:/c%3A/workspace/python/pyflowline-main/notebooks/mpas_example.ipynb#Y111sZmlsZQ%3D%3D?line=0'>1</a>\u001b[0m \u001b[39mwith\u001b[39;00m \u001b[39mopen\u001b[39m(oPyflowline\u001b[39m.\u001b[39msFilename_mesh_info, \u001b[39m'\u001b[39m\u001b[39mr\u001b[39m\u001b[39m'\u001b[39m) \u001b[39mas\u001b[39;00m pJSON:\n\u001b[0;32m      <a href='vscode-notebook-cell:/c%3A/workspace/python/pyflowline-main/notebooks/mpas_example.ipynb#Y111sZmlsZQ%3D%3D?line=1'>2</a>\u001b[0m     parsed \u001b[39m=\u001b[39m json\u001b[39m.\u001b[39mload(pJSON)\n\u001b[1;32m----> <a href='vscode-notebook-cell:/c%3A/workspace/python/pyflowline-main/notebooks/mpas_example.ipynb#Y111sZmlsZQ%3D%3D?line=2'>3</a>\u001b[0m     \u001b[39mprint\u001b[39m(json\u001b[39m.\u001b[39mdumps(parsed[\u001b[39m0\u001b[39;49m], indent\u001b[39m=\u001b[39m\u001b[39m4\u001b[39m))\n",
      "\u001b[1;31mIndexError\u001b[0m: list index out of range"
     ]
    }
   ],
   "source": [
    "with open(oPyflowline.sFilename_mesh_info, 'r') as pJSON:\n",
    "    parsed = json.load(pJSON)\n",
    "    print(json.dumps(parsed[0], indent=4))\n",
    "    "
   ]
  },
  {
   "cell_type": "code",
   "execution_count": null,
   "id": "b27d7c95",
   "metadata": {},
   "outputs": [],
   "source": [
    "sFilename_flowline_conceptual_info= os.path.join(str(Path(oPyflowline.aBasin[0].sWorkspace_output_basin)  ), oPyflowline.aBasin[0].sFilename_flowline_conceptual_info  )    \n",
    "                \n",
    "with open(sFilename_flowline_conceptual_info, 'r') as pJSON:\n",
    "    parsed = json.load(pJSON)\n",
    "    print(json.dumps(parsed[0], indent=4))"
   ]
  },
  {
   "attachments": {},
   "cell_type": "markdown",
   "id": "9e07bc96",
   "metadata": {},
   "source": [
    "The outlet associated flowline is always assigned with a dam, because it would be preserved."
   ]
  },
  {
   "attachments": {},
   "cell_type": "markdown",
   "id": "e2f1bea7",
   "metadata": {},
   "source": [
    "Congratulations! You have successfully finished a pyflowline simulation."
   ]
  }
 ],
 "metadata": {
  "kernelspec": {
   "display_name": "hexwatershed",
   "language": "python",
   "name": "python3"
  },
  "language_info": {
   "codemirror_mode": {
    "name": "ipython",
    "version": 3
   },
   "file_extension": ".py",
   "mimetype": "text/x-python",
   "name": "python",
   "nbconvert_exporter": "python",
   "pygments_lexer": "ipython3",
   "version": "3.11.5"
  },
  "vscode": {
   "interpreter": {
    "hash": "79a4c0f6fdb3719d3372bd1edc1cf6b68731a08c9eb5f46b972d9360271030c3"
   }
  }
 },
 "nbformat": 4,
 "nbformat_minor": 5
}
