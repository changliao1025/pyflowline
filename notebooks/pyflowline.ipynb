{
 "cells": [
  {
   "cell_type": "markdown",
   "id": "768807d8-ff92-4289-86eb-c9366edceafe",
   "metadata": {},
   "source": [
    "This is a tutorial pyflowline notebook.\n",
    "First, let's load some Python libraries "
   ]
  },
  {
   "cell_type": "code",
   "execution_count": null,
   "id": "d101804e",
   "metadata": {},
   "outputs": [
    {
     "ename": "",
     "evalue": "",
     "output_type": "error",
     "traceback": [
      "\u001b[1;31mJupyter cannot be started. Error attempting to locate Jupyter: Select an Interpreter to start Jupyter\n",
      "\u001b[1;31mRun the following command to install 'jupyter and notebook' into the Python environment. \n",
      "\u001b[1;31mCommand: 'python -m pip install jupyter notebook -U\n",
      "\u001b[1;31mor\n",
      "\u001b[1;31mconda install jupyter notebook -U'\n",
      "\u001b[1;31mClick <a href='https://aka.ms/installJupyterForVSCode'>here</a> for more info."
     ]
    }
   ],
   "source": [
    "import os, sys\n",
    "from pathlib import Path\n",
    "from os.path import realpath"
   ]
  },
  {
   "cell_type": "code",
   "execution_count": null,
   "id": "c35e1e40",
   "metadata": {},
   "outputs": [],
   "source": [
    "sPath_parent = str(Path(__file__).parents[1]) # data is located two dir's up\n",
    "print(sPath_parent)\n",
    "sys.path.append(sPath_parent)\n"
   ]
  },
  {
   "cell_type": "markdown",
   "id": "25edfaeb",
   "metadata": {},
   "source": [
    "The pyflowline python package uses the OOP approach to manage configuration settings.\n",
    "Set up the case object. \n",
    "Set up some core keywords."
   ]
  },
  {
   "cell_type": "code",
   "execution_count": null,
   "id": "84987ece",
   "metadata": {},
   "outputs": [],
   "source": [
    "sMesh_type = 'mpas'\n",
    "iCase_index = 1\n",
    "dResolution_meter=5000\n",
    "sDate='20230101'"
   ]
  },
  {
   "cell_type": "markdown",
   "id": "f255c481",
   "metadata": {},
   "source": [
    "We provide two options to set up a simulation case. First, from scratch (iFlag_option: 1); second, using a json file (iFlag_option = 2). For details of the json file format, please read the documentation.\n",
    "We will use option 1 in this tutorial."
   ]
  },
  {
   "cell_type": "code",
   "execution_count": null,
   "id": "f6a280b6",
   "metadata": {},
   "outputs": [],
   "source": [
    "#load the read configuration function\n",
    "from pyflowline.pyflowline_read_model_configuration_file import pyflowline_read_model_configuration_file\n",
    "from pyflowline.classes.pycase import flowlinecase\n",
    "\n",
    "\n",
    "sPath = str( Path().resolve() ) + '/../'\n",
    "sWorkspace_data = realpath( sPath +  '/data/susquehanna' )\n",
    "sWorkspace_input =  str(Path(sWorkspace_data)  /  'input')\n",
    "sWorkspace_output=  str(Path(sWorkspace_data)  /  'output')\n",
    "\n",
    "\n",
    "#an example configuration file is provided with the repository, \n",
    "#but you need to update this file based on your own case study\n",
    "        \n",
    "        \n",
    "sFilename_configuration_in =realpath( sPath +  '/../tests/configurations/pyflowline_susquehanna_mpas.json' )\n",
    "\n",
    "#if the configuration file does not exist, you need to check the path setting\n",
    "if os.path.isfile(sFilename_configuration_in):\n",
    "    pass\n",
    "else:\n",
    "    print('This configuration does not exist: ', sFilename_configuration_in )\n",
    "    exit\n",
    "oPyflowline = pyflowline_read_model_configuration_file(sFilename_configuration_in, iCase_index_in=iCase_index, dResolution_meter_in=dResolution_meter, sDate_in=sDate)\n",
    "        "
   ]
  },
  {
   "attachments": {},
   "cell_type": "markdown",
   "id": "4fa4a44c",
   "metadata": {},
   "source": [
    "Now let's see what the configuration contains."
   ]
  },
  {
   "cell_type": "code",
   "execution_count": null,
   "id": "4e96d31d",
   "metadata": {},
   "outputs": [],
   "source": [
    "print(oPyflowline.tojson())"
   ]
  },
  {
   "cell_type": "markdown",
   "id": "c432a723",
   "metadata": {},
   "source": [
    "After the case object was created, we can run the mainly three types of operations. \n",
    "First, we can preprocess the flowline."
   ]
  },
  {
   "cell_type": "markdown",
   "id": "ab7fb64a",
   "metadata": {},
   "source": [
    "Before the operation, we can visualize the original or raw flowline dataset. For most visualization, all you need to provide is a keyword, a look up table is provided in the documentation.\n",
    "Be default, all the dataset will be converted to the WGS84 system to maintain consistency."
   ]
  },
  {
   "attachments": {},
   "cell_type": "markdown",
   "id": "32fe50e3",
   "metadata": {},
   "source": [
    "You can also change the outlet coordinates."
   ]
  },
  {
   "cell_type": "code",
   "execution_count": null,
   "id": "65744d62",
   "metadata": {},
   "outputs": [],
   "source": [
    "oPyflowline.aBasin[0].dLatitude_outlet_degree=39.4620\n",
    "oPyflowline.aBasin[0].dLongitude_outlet_degree=-76.0093\n"
   ]
  },
  {
   "cell_type": "code",
   "execution_count": null,
   "id": "be0624e4",
   "metadata": {},
   "outputs": [],
   "source": [
    "#setup the model       \n",
    "oPyflowline.setup()"
   ]
  },
  {
   "cell_type": "code",
   "execution_count": null,
   "id": "689984cb",
   "metadata": {},
   "outputs": [],
   "source": [
    "#run step 1\n",
    "oPyflowline.flowline_simplification()\n"
   ]
  },
  {
   "cell_type": "markdown",
   "id": "71860336",
   "metadata": {},
   "source": [
    "After the preprocess, we can visualize the final flowline "
   ]
  },
  {
   "cell_type": "markdown",
   "id": "e72a9453",
   "metadata": {},
   "source": [
    "Second, we can creata a mesh"
   ]
  },
  {
   "cell_type": "code",
   "execution_count": null,
   "id": "e898bc82",
   "metadata": {},
   "outputs": [],
   "source": [
    "#run step 2\n",
    "oPyflowline.dLongitude_left= -79\n",
    "oPyflowline.dLongitude_right= -74.5\n",
    "oPyflowline.dLatitude_bot= 39.20\n",
    "oPyflowline.dLatitude_top= 42.8\n",
    "\n",
    "aCell = oPyflowline.mesh_generation()"
   ]
  },
  {
   "cell_type": "markdown",
   "id": "72f8613a",
   "metadata": {},
   "source": [
    "We can also visualize the mesh:"
   ]
  },
  {
   "cell_type": "markdown",
   "id": "9d8c3d26",
   "metadata": {},
   "source": [
    "Last, we can operate the intersect to generate desired flowlines. But we recommend that we run the intersect with some postprocess."
   ]
  },
  {
   "cell_type": "code",
   "execution_count": null,
   "id": "5f7c76d8",
   "metadata": {},
   "outputs": [],
   "source": [
    "#runs step 3\n",
    "oPyflowline.reconstruct_topological_relationship(aCell)\n"
   ]
  },
  {
   "cell_type": "markdown",
   "id": "33ce7f70",
   "metadata": {},
   "source": [
    "After this step, we can now visualize the final flowline again."
   ]
  },
  {
   "cell_type": "code",
   "execution_count": null,
   "id": "e8efab4e",
   "metadata": {},
   "outputs": [],
   "source": [
    "#export output\n",
    "\n",
    "oPyflowline.export()"
   ]
  },
  {
   "cell_type": "code",
   "execution_count": null,
   "id": "cf3c0a1e",
   "metadata": {},
   "outputs": [],
   "source": [
    "print('Finished')\n",
    "\n"
   ]
  },
  {
   "cell_type": "code",
   "execution_count": null,
   "id": "80961007",
   "metadata": {},
   "outputs": [],
   "source": []
  }
 ],
 "metadata": {
  "kernelspec": {
   "display_name": "hexwatershed",
   "language": "python",
   "name": "python3"
  },
  "language_info": {
   "codemirror_mode": {
    "name": "ipython",
    "version": 3
   },
   "file_extension": ".py",
   "mimetype": "text/x-python",
   "name": "python",
   "nbconvert_exporter": "python",
   "pygments_lexer": "ipython3",
   "version": "3.11.0 | packaged by conda-forge | (main, Oct 25 2022, 06:24:40) [GCC 10.4.0]"
  },
  "vscode": {
   "interpreter": {
    "hash": "79a4c0f6fdb3719d3372bd1edc1cf6b68731a08c9eb5f46b972d9360271030c3"
   }
  }
 },
 "nbformat": 4,
 "nbformat_minor": 5
}
