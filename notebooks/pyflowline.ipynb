{
 "cells": [
  {
   "cell_type": "markdown",
   "id": "768807d8-ff92-4289-86eb-c9366edceafe",
   "metadata": {},
   "source": [
    "This is a tutorial pyflowline notebook.\n",
    "First, let's load some Python libraries "
   ]
  },
  {
   "cell_type": "code",
   "execution_count": null,
   "id": "d101804e",
   "metadata": {},
   "outputs": [],
   "source": [
    "import sys\n",
    "\n",
    "import logging\n",
    "for handler in logging.root.handlers[:]:\n",
    "    logging.root.removeHandler(handler)\n",
    "\n",
    "logging.basicConfig(format='%(asctime)s %(message)s')\n",
    "logging.warning('is the time Pyflowline simulation started.')"
   ]
  },
  {
   "cell_type": "markdown",
   "id": "25edfaeb",
   "metadata": {},
   "source": [
    "The pyflowline python package uses the OOP approach to manage configuration settings.\n",
    "Set up the case object. \n",
    "Set up some core keywords."
   ]
  },
  {
   "cell_type": "code",
   "execution_count": null,
   "id": "84987ece",
   "metadata": {},
   "outputs": [],
   "source": [
    "sMesh_type = 'mpas'\n",
    "iCase_index = 1\n",
    "dResolution_meter=5000\n",
    "sDate='20220301'"
   ]
  },
  {
   "cell_type": "markdown",
   "id": "f255c481",
   "metadata": {},
   "source": [
    "We provide two options to set up a simulation case. First, from scratch (iFlag_option: 1); second, using a json file (iFlag_option = 2). For details of the json file format, please read the documentation.\n",
    "We will use option 1 in this tutorial."
   ]
  },
  {
   "cell_type": "code",
   "execution_count": null,
   "id": "f6a280b6",
   "metadata": {},
   "outputs": [],
   "source": [
    "from pathlib import Path\n",
    "from os.path import realpath\n",
    "from pyflowline.classes.pycase import flowlinecase\n",
    "from pyflowline.pyflowline_generate_template_configuration_json_file import pyflowline_generate_template_configuration_json_file\n",
    "from pyflowline.pyflowline_read_model_configuration_file import pyflowline_read_model_configuration_file\n",
    "\n",
    "iFlag_option = 1\n",
    "sPath = str( Path().resolve() )\n",
    "sWorkspace_data = realpath( sPath +  '/data/susquehanna' )\n",
    "sWorkspace_input =  str(Path(sWorkspace_data)  /  'input')\n",
    "sWorkspace_output=  str(Path(sWorkspace_data)  /  'output')\n",
    "\n",
    "if iFlag_option ==1:\n",
    "    \n",
    "    sFilename_configuration_in = realpath(sPath +  '/tests/configurations/template.json' )\n",
    "    oPyflowline = pyflowline_generate_template_configuration_json_file(sFilename_configuration_in,\\\n",
    "         sWorkspace_input, sWorkspace_output, sMesh_type_in=sMesh_type,iFlag_use_mesh_dem_in =1, iCase_index_in = iCase_index, sDate_in = sDate)\n",
    "        \n",
    "else: \n",
    "    if iFlag_option == 2:\n",
    "        #an example configuration file is provided with the repository, \n",
    "        #but you need to update this file based on your own case study\n",
    "        \n",
    "        if sMesh_type=='hexagon':\n",
    "            sFilename_configuration_in = realpath( sPath +  '/../tests/configurations/pyflowline_susquehanna_hexagon.json' ) \n",
    "        else:\n",
    "            if sMesh_type=='square':\n",
    "                sFilename_configuration_in = realpath(sPath +  '/../tests/configurations/pyflowline_susquehanna_square.json' )\n",
    "            else:\n",
    "                if sMesh_type=='latlon':\n",
    "                    sFilename_configuration_in = realpath( sPath +  '/../tests/configurations/pyflowline_susquehanna_latlon.json' )\n",
    "                else:\n",
    "                    sFilename_configuration_in =realpath( sPath +  '/../tests/configurations/pyflowline_susquehanna_mpas.json' )\n",
    "        \n",
    "        oPyflowline = pyflowline_read_model_configuration_file(sFilename_configuration_in, iCase_index_in=iCase_index, dResolution_meter_in=dResolution_meter, sDate_in=sDate)\n",
    "        "
   ]
  },
  {
   "cell_type": "code",
   "execution_count": null,
   "id": "4e96d31d",
   "metadata": {},
   "outputs": [],
   "source": [
    "print(oPyflowline.tojson())\n"
   ]
  },
  {
   "cell_type": "markdown",
   "id": "c432a723",
   "metadata": {},
   "source": [
    "After the case object was created, we can run the mainly three types of operations. \n",
    "First, we can preprocess the flowline."
   ]
  },
  {
   "cell_type": "markdown",
   "id": "ab7fb64a",
   "metadata": {},
   "source": [
    "Before the operation, we can visualize the original or raw flowline dataset. For most visualization, all you need to provide is a keyword, a look up table is provided in the documentation.\n",
    "Be default, all the dataset will be converted to the WGS84 system to maintain consistency."
   ]
  },
  {
   "cell_type": "code",
   "execution_count": null,
   "id": "65744d62",
   "metadata": {},
   "outputs": [],
   "source": [
    "oPyflowline.aBasin[0].dLatitude_outlet_degree=39.4620\n",
    "oPyflowline.aBasin[0].dLongitude_outlet_degree=-76.0093\n"
   ]
  },
  {
   "cell_type": "code",
   "execution_count": null,
   "id": "be0624e4",
   "metadata": {},
   "outputs": [],
   "source": [
    "#pyflowline can process multiple basins within one singel run\n",
    "#the total number of basin is controlled by the nOutlet variable\n",
    "#convert the raw flowline into geojson in WGS84 system        \n",
    "oPyflowline.convert_flowline_to_json()"
   ]
  },
  {
   "cell_type": "code",
   "execution_count": null,
   "id": "689984cb",
   "metadata": {},
   "outputs": [],
   "source": [
    "\n",
    "oPyflowline.flowline_simplification()\n"
   ]
  },
  {
   "cell_type": "markdown",
   "id": "71860336",
   "metadata": {},
   "source": [
    "After the preprocess, we can visualize the final flowline "
   ]
  },
  {
   "cell_type": "markdown",
   "id": "e72a9453",
   "metadata": {},
   "source": [
    "Second, we can creata a mesh"
   ]
  },
  {
   "cell_type": "code",
   "execution_count": null,
   "id": "e898bc82",
   "metadata": {},
   "outputs": [],
   "source": [
    "print(oPyflowline.sFilename_mesh)\n",
    "\n",
    "oPyflowline.dLongitude_left= -79\n",
    "oPyflowline.dLongitude_right= -74.5\n",
    "oPyflowline.dLatitude_bot= 39.20\n",
    "oPyflowline.dLatitude_top= 42.8\n",
    "oPyflowline.mesh_generation()"
   ]
  },
  {
   "cell_type": "markdown",
   "id": "72f8613a",
   "metadata": {},
   "source": [
    "We can also visualize the mesh:"
   ]
  },
  {
   "cell_type": "markdown",
   "id": "9d8c3d26",
   "metadata": {},
   "source": [
    "Last, we can operate the intersect to generate desired flowlines. But we recommend that we run the intersect with some postprocess."
   ]
  },
  {
   "cell_type": "code",
   "execution_count": null,
   "id": "5f7c76d8",
   "metadata": {},
   "outputs": [],
   "source": [
    "\n",
    "\n",
    "oPyflowline.reconstruct_topological_relationship()\n"
   ]
  },
  {
   "cell_type": "markdown",
   "id": "33ce7f70",
   "metadata": {},
   "source": [
    "After this step, we can now visualize the final flowline again."
   ]
  },
  {
   "cell_type": "code",
   "execution_count": null,
   "id": "e8efab4e",
   "metadata": {},
   "outputs": [],
   "source": [
    "oPyflowline.analyze()\n",
    "\n",
    "oPyflowline.export()"
   ]
  },
  {
   "cell_type": "code",
   "execution_count": null,
   "id": "cf3c0a1e",
   "metadata": {},
   "outputs": [],
   "source": [
    "print('Finished')\n",
    "\n",
    "logging.basicConfig(format='%(asctime)s %(message)s')\n",
    "logging.warning('is the time Pyflowline simulation finished.')"
   ]
  },
  {
   "cell_type": "code",
   "execution_count": null,
   "id": "80961007",
   "metadata": {},
   "outputs": [],
   "source": []
  }
 ],
 "metadata": {
  "kernelspec": {
   "display_name": "Python 3 (ipykernel)",
   "language": "python",
   "name": "python3"
  },
  "language_info": {
   "codemirror_mode": {
    "name": "ipython",
    "version": 3
   },
   "file_extension": ".py",
   "mimetype": "text/x-python",
   "name": "python",
   "nbconvert_exporter": "python",
   "pygments_lexer": "ipython3",
   "version": "3.8.12"
  }
 },
 "nbformat": 4,
 "nbformat_minor": 5
}
