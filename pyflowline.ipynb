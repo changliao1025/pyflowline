{
 "cells": [
  {
   "cell_type": "markdown",
   "id": "768807d8-ff92-4289-86eb-c9366edceafe",
   "metadata": {},
   "source": [
    "This is an example"
   ]
  },
  {
   "cell_type": "code",
   "execution_count": null,
   "id": "0320051a-eca0-4a3a-a2c5-6b0434dd967d",
   "metadata": {},
   "outputs": [],
   "source": [
    "sFilename_nhd = '6'\n",
    "print(sFilename_nhd)"
   ]
  },
  {
   "cell_type": "markdown",
   "id": "3e33f44f-213b-4a78-9582-14487ad667b7",
   "metadata": {},
   "source": [
    "Now set up the case object"
   ]
  },
  {
   "cell_type": "code",
   "execution_count": null,
   "id": "01b53f08-c756-45e4-b4e9-9dff137a70e6",
   "metadata": {},
   "outputs": [],
   "source": [
    "from pyflowline.case.pycase import flowlinecase\n",
    "\n",
    "oPyflowline=flowlinecase()\n"
   ]
  }
 ],
 "metadata": {
  "kernelspec": {
   "display_name": "Python 3 (ipykernel)",
   "language": "python",
   "name": "python3"
  },
  "language_info": {
   "codemirror_mode": {
    "name": "ipython",
    "version": 3
   },
   "file_extension": ".py",
   "mimetype": "text/x-python",
   "name": "python",
   "nbconvert_exporter": "python",
   "pygments_lexer": "ipython3",
   "version": "3.8.12"
  }
 },
 "nbformat": 4,
 "nbformat_minor": 5
}
