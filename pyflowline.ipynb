{
 "cells": [
  {
   "cell_type": "markdown",
   "id": "768807d8-ff92-4289-86eb-c9366edceafe",
   "metadata": {},
   "source": [
    "This is an example"
   ]
  },
  {
   "cell_type": "code",
   "execution_count": 1,
   "id": "0320051a-eca0-4a3a-a2c5-6b0434dd967d",
   "metadata": {},
   "outputs": [
    {
     "name": "stdout",
     "output_type": "stream",
     "text": [
      "6\n"
     ]
    }
   ],
   "source": [
    "sFilename_nhd = '6'\n",
    "print(sFilename_nhd)"
   ]
  },
  {
   "cell_type": "markdown",
   "id": "3e33f44f-213b-4a78-9582-14487ad667b7",
   "metadata": {},
   "source": [
    "Now set up the case object. We provide three options to set up a simulation case. First, from scratch (iFlag_option: 1); second, using a json file (iFlag_option = 2). For details of the json file format, please read the documentation."
   ]
  },
  {
   "cell_type": "code",
   "execution_count": null,
   "id": "01b53f08-c756-45e4-b4e9-9dff137a70e6",
   "metadata": {},
   "outputs": [],
   "source": [
    "from pyflowline.case.pycase import flowlinecase\n",
    "from pyflowline.case.pyflowline_read_model_configuration_file import pyflowline_read_model_configuration_file\n",
    "\n",
    "iFlag_option = 2\n",
    "\n",
    "if iFlag_option ==1:\n",
    "\n",
    "    oPyflowline=flowlinecase()\n",
    "    oPyflowline.iCase_index = 1\n",
    "\n",
    "\n",
    "else: \n",
    "    if iFlag_option ==2:\n",
    "        sFilename_configuration_in = '/qfs/people/liao313/workspace/python/pyflowline/pyflowline/config/pyflowline_susquehanna_hexagon.json'\n",
    "        oPyflowline = pyflowline_read_model_configuration_file(sFilename_configuration_in)\n",
    "        \n",
    "\n",
    "        \n",
    "\n"
   ]
  },
  {
   "cell_type": "markdown",
   "id": "c432a723",
   "metadata": {},
   "source": [
    "After the case object was created, we can run the mainly three types of operations. \n",
    "First, we can preprocess the flowline."
   ]
  },
  {
   "cell_type": "markdown",
   "id": "ab7fb64a",
   "metadata": {},
   "source": [
    "Before the operation, we can visualize the original or raw flowline dataset. For most visualization, all you need to provide is a keyword, a look up table is provided in the documentation."
   ]
  },
  {
   "cell_type": "code",
   "execution_count": null,
   "id": "be0624e4",
   "metadata": {},
   "outputs": [],
   "source": [
    "from pyflowline.plot.pyflowline_plot_flowline import pyflowline_plot_flowline\n",
    "pyflowline_plot_flowline(oPyflowline, sVariable_in = 'flowline_raw')"
   ]
  },
  {
   "cell_type": "code",
   "execution_count": null,
   "id": "689984cb",
   "metadata": {},
   "outputs": [],
   "source": [
    "from pyflowline.operation.preprocess_flowline_op import preprocess_flowline_op\n",
    "preprocess_flowline_op(oPyflowline)"
   ]
  },
  {
   "cell_type": "markdown",
   "id": "71860336",
   "metadata": {},
   "source": [
    "After the preprocess, we can visualize the final flowline "
   ]
  },
  {
   "cell_type": "code",
   "execution_count": null,
   "id": "e99c903a",
   "metadata": {},
   "outputs": [],
   "source": [
    "pyflowline_plot_flowline(oPyflowline, sVariable_in = 'flowline_simplified')"
   ]
  },
  {
   "cell_type": "markdown",
   "id": "e72a9453",
   "metadata": {},
   "source": [
    "Second, we can creata a mesh"
   ]
  },
  {
   "cell_type": "code",
   "execution_count": null,
   "id": "e898bc82",
   "metadata": {},
   "outputs": [],
   "source": [
    "from pyflowline.operation.create_mesh_op import create_mesh_op\n",
    "aCell = create_mesh_op(oPyflowline)"
   ]
  },
  {
   "cell_type": "markdown",
   "id": "72f8613a",
   "metadata": {},
   "source": [
    "We can also visualize the mesh:"
   ]
  },
  {
   "cell_type": "code",
   "execution_count": null,
   "id": "78757960",
   "metadata": {},
   "outputs": [],
   "source": [
    "from pyflowline.plot.pyflowline_plot_mesh import pyflowline_plot_mesh\n",
    "pyflowline_plot_mesh(oPyflowline)"
   ]
  },
  {
   "cell_type": "markdown",
   "id": "9d8c3d26",
   "metadata": {},
   "source": [
    "Last, we can operate the intersect to generate desired flowlines. But we recommend that we run the intersect with some postprocess."
   ]
  },
  {
   "cell_type": "code",
   "execution_count": null,
   "id": "5f7c76d8",
   "metadata": {},
   "outputs": [],
   "source": [
    "from pyflowline.operation.intersect_flowline_with_mesh_with_postprocess_op import intersect_flowline_with_mesh_with_postprocess_op\n",
    "intersect_flowline_with_mesh_with_postprocess_op(oPyflowline)"
   ]
  },
  {
   "cell_type": "markdown",
   "id": "33ce7f70",
   "metadata": {},
   "source": [
    "After this step, we can now visualize the final flowline again."
   ]
  },
  {
   "cell_type": "code",
   "execution_count": null,
   "id": "96f4015a",
   "metadata": {},
   "outputs": [],
   "source": [
    "pyflowline_plot_flowline(oPyflowline, sVariable_in = 'flowline_final')"
   ]
  }
 ],
 "metadata": {
  "kernelspec": {
   "display_name": "Python 3 (ipykernel)",
   "language": "python",
   "name": "python3"
  },
  "language_info": {
   "codemirror_mode": {
    "name": "ipython",
    "version": 3
   },
   "file_extension": ".py",
   "mimetype": "text/x-python",
   "name": "python",
   "nbconvert_exporter": "python",
   "pygments_lexer": "ipython3",
   "version": "3.8.12"
  }
 },
 "nbformat": 4,
 "nbformat_minor": 5
}
