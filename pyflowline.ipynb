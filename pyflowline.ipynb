{
 "cells": [
  {
   "cell_type": "markdown",
   "id": "768807d8-ff92-4289-86eb-c9366edceafe",
   "metadata": {},
   "source": [
    "This is an example"
   ]
  },
  {
   "cell_type": "markdown",
   "id": "3e33f44f-213b-4a78-9582-14487ad667b7",
   "metadata": {},
   "source": [
    "The pyflowline python package uses the OOP approach to manage configuration settings.\n",
    "Set up the case object. We provide two options to set up a simulation case. First, from scratch (iFlag_option: 1); second, using a json file (iFlag_option = 2). For details of the json file format, please read the documentation."
   ]
  },
  {
   "cell_type": "code",
   "execution_count": null,
   "id": "d101804e",
   "metadata": {},
   "outputs": [
    {
     "name": "stdout",
     "output_type": "stream",
     "text": [
      "/Users/liao313/workspace/python/pyflowline/pyflowline/config/pyflowline_susquehanna_hexagon.json\n"
     ]
    },
    {
     "ename": "KeyError",
     "evalue": "'iFlag_use_mesh_dem'",
     "output_type": "error",
     "traceback": [
      "\u001b[0;31m---------------------------------------------------------------------------\u001b[0m",
      "\u001b[0;31mKeyError\u001b[0m                                  Traceback (most recent call last)",
      "\u001b[0;32m/var/folders/_4/w2zxxrns4vd263wtwtdh7b4n8lhbzq/T/ipykernel_36457/425111732.py\u001b[0m in \u001b[0;36m<module>\u001b[0;34m\u001b[0m\n\u001b[1;32m     18\u001b[0m         \u001b[0msFilename_configuration_in\u001b[0m \u001b[0;34m=\u001b[0m \u001b[0mstr\u001b[0m\u001b[0;34m(\u001b[0m\u001b[0mPath\u001b[0m\u001b[0;34m.\u001b[0m\u001b[0mcwd\u001b[0m\u001b[0;34m(\u001b[0m\u001b[0;34m)\u001b[0m\u001b[0;34m)\u001b[0m \u001b[0;34m+\u001b[0m  \u001b[0;34m'/pyflowline/config/pyflowline_susquehanna_hexagon.json'\u001b[0m\u001b[0;34m\u001b[0m\u001b[0;34m\u001b[0m\u001b[0m\n\u001b[1;32m     19\u001b[0m         \u001b[0mprint\u001b[0m\u001b[0;34m(\u001b[0m\u001b[0msFilename_configuration_in\u001b[0m\u001b[0;34m)\u001b[0m\u001b[0;34m\u001b[0m\u001b[0;34m\u001b[0m\u001b[0m\n\u001b[0;32m---> 20\u001b[0;31m         \u001b[0moPyflowline\u001b[0m \u001b[0;34m=\u001b[0m \u001b[0mpyflowline_read_model_configuration_file\u001b[0m\u001b[0;34m(\u001b[0m\u001b[0msFilename_configuration_in\u001b[0m\u001b[0;34m)\u001b[0m\u001b[0;34m\u001b[0m\u001b[0;34m\u001b[0m\u001b[0m\n\u001b[0m\u001b[1;32m     21\u001b[0m \u001b[0;34m\u001b[0m\u001b[0m\n\u001b[1;32m     22\u001b[0m         \u001b[0;31m#print the case information in details\u001b[0m\u001b[0;34m\u001b[0m\u001b[0;34m\u001b[0m\u001b[0;34m\u001b[0m\u001b[0m\n",
      "\u001b[0;32m~/workspace/python/pyflowline/pyflowline/case/pyflowline_read_model_configuration_file.py\u001b[0m in \u001b[0;36mpyflowline_read_model_configuration_file\u001b[0;34m(sFilename_configuration_in, iFlag_standalone_in, iFlag_use_mesh_dem_in, iCase_index_in, dResolution_in, dResolution_meter_in, sJob_in, aVariable_in, aValue_in, sDate_in, sWorkspace_output_in)\u001b[0m\n\u001b[1;32m     45\u001b[0m         \u001b[0miFlag_use_mesh_dem\u001b[0m \u001b[0;34m=\u001b[0m \u001b[0miFlag_use_mesh_dem_in\u001b[0m\u001b[0;34m\u001b[0m\u001b[0;34m\u001b[0m\u001b[0m\n\u001b[1;32m     46\u001b[0m     \u001b[0;32melse\u001b[0m\u001b[0;34m:\u001b[0m\u001b[0;34m\u001b[0m\u001b[0;34m\u001b[0m\u001b[0m\n\u001b[0;32m---> 47\u001b[0;31m         \u001b[0miFlag_use_mesh_dem\u001b[0m \u001b[0;34m=\u001b[0m \u001b[0mint\u001b[0m\u001b[0;34m(\u001b[0m\u001b[0mdata\u001b[0m\u001b[0;34m[\u001b[0m\u001b[0;34m'iFlag_use_mesh_dem'\u001b[0m\u001b[0;34m]\u001b[0m\u001b[0;34m)\u001b[0m\u001b[0;34m\u001b[0m\u001b[0;34m\u001b[0m\u001b[0m\n\u001b[0m\u001b[1;32m     48\u001b[0m \u001b[0;34m\u001b[0m\u001b[0m\n\u001b[1;32m     49\u001b[0m \u001b[0;34m\u001b[0m\u001b[0m\n",
      "\u001b[0;31mKeyError\u001b[0m: 'iFlag_use_mesh_dem'"
     ]
    }
   ],
   "source": [
    "from pathlib import Path\n",
    "from pyflowline.case.pycase import flowlinecase\n",
    "from pyflowline.case.pyflowline_read_model_configuration_file import pyflowline_read_model_configuration_file\n",
    "\n",
    "iFlag_option = 2\n",
    "\n",
    "if iFlag_option ==1:\n",
    "\n",
    "    oPyflowline=flowlinecase()\n",
    "    oPyflowline.iCase_index = 1\n",
    "\n",
    "\n",
    "else: \n",
    "    if iFlag_option ==2:\n",
    "\n",
    "        #an example configuration file is provided with the repository, but you need to update this file based on your own case study\n",
    "        \n",
    "        #sFilename_configuration_in = str(Path.cwd()) +  '/pyflowline/config/pyflowline_susquehanna_hexagon.json' \n",
    "        sFilename_configuration_in = '/qfs/people/liao313/workspace/python/pyflowline/pyflowline/config/pyflowline_susquehanna_hexagon.json'\n",
    "        print(sFilename_configuration_in)\n",
    "        oPyflowline = pyflowline_read_model_configuration_file(sFilename_configuration_in)\n",
    "\n",
    "        #print the case information in details\n",
    "        print(oPyflowline)\n",
    "        \n",
    "\n",
    "        \n",
    "\n"
   ]
  },
  {
   "cell_type": "markdown",
   "id": "c432a723",
   "metadata": {},
   "source": [
    "After the case object was created, we can run the mainly three types of operations. \n",
    "First, we can preprocess the flowline."
   ]
  },
  {
   "cell_type": "markdown",
   "id": "ab7fb64a",
   "metadata": {},
   "source": [
    "Before the operation, we can visualize the original or raw flowline dataset. For most visualization, all you need to provide is a keyword, a look up table is provided in the documentation.\n",
    "Be default, all the dataset will be converted to the WGS84 system to maintain consistency."
   ]
  },
  {
   "cell_type": "code",
   "execution_count": null,
   "id": "be0624e4",
   "metadata": {},
   "outputs": [],
   "source": [
    "#pyflowline can process multiple basins within one singel run\n",
    "#the total number of basin is controlled by the nOutlet variable\n",
    "#convert the raw flowline into geojson in WGS84 system        \n",
    "from pyflowline.format.convert_shapefile_to_json import convert_shapefile_to_json\n",
    "nOutlet = oPyflowline.nOutlet\n",
    "for i in range(nOutlet):\n",
    "    sBasin =  \"{:03d}\".format(i+1)    \n",
    "    sWorkspace_output_basin = Path(oPyflowline.sWorkspace_output) / sBasin\n",
    "    Path(sWorkspace_output_basin).mkdir(parents=True, exist_ok=True)                      \n",
    "    pBasin = oPyflowline.aBasin[i]\n",
    "    #the original flowline in shapefile format\n",
    "    sFilename_raw = pBasin.sFilename_flowline_filter\n",
    "    #the new flowine in geojson format in WGS84\n",
    "    sFilename_out = 'flowline_raw_' + sBasin + '.json'\n",
    "    sFilename_out = os.path.join(sWorkspace_output_basin, sFilename_out)\n",
    "    convert_shapefile_to_json(sFilename_raw, sFilename_out)"
   ]
  },
  {
   "cell_type": "code",
   "execution_count": null,
   "id": "689984cb",
   "metadata": {},
   "outputs": [],
   "source": [
    "from pyflowline.plot.pyflowline_plot_flowline import pyflowline_plot_flowline\n",
    "for i in range(nOutlet):\n",
    "    pBasin = oPyflowline.aBasin[i]\n",
    "    pyflowline_plot_flowline(pBasin, sVariable_in = 'flowline_raw') "
   ]
  },
  {
   "cell_type": "markdown",
   "id": "71860336",
   "metadata": {},
   "source": [
    "After the preprocess, we can visualize the final flowline "
   ]
  },
  {
   "cell_type": "code",
   "execution_count": null,
   "id": "e99c903a",
   "metadata": {},
   "outputs": [],
   "source": [
    "pyflowline_plot_flowline(oPyflowline, sVariable_in = 'flowline_simplified')"
   ]
  },
  {
   "cell_type": "code",
   "execution_count": null,
   "id": "faad0452",
   "metadata": {},
   "outputs": [],
   "source": []
  },
  {
   "cell_type": "markdown",
   "id": "e72a9453",
   "metadata": {},
   "source": [
    "Second, we can creata a mesh"
   ]
  },
  {
   "cell_type": "code",
   "execution_count": null,
   "id": "e898bc82",
   "metadata": {},
   "outputs": [],
   "source": [
    "from pyflowline.operation.create_mesh_op import create_mesh_op\n",
    "aCell = create_mesh_op(oPyflowline)"
   ]
  },
  {
   "cell_type": "markdown",
   "id": "72f8613a",
   "metadata": {},
   "source": [
    "We can also visualize the mesh:"
   ]
  },
  {
   "cell_type": "code",
   "execution_count": null,
   "id": "78757960",
   "metadata": {},
   "outputs": [],
   "source": [
    "from pyflowline.plot.pyflowline_plot_mesh import pyflowline_plot_mesh\n",
    "pyflowline_plot_mesh(oPyflowline)"
   ]
  },
  {
   "cell_type": "markdown",
   "id": "9d8c3d26",
   "metadata": {},
   "source": [
    "Last, we can operate the intersect to generate desired flowlines. But we recommend that we run the intersect with some postprocess."
   ]
  },
  {
   "cell_type": "code",
   "execution_count": null,
   "id": "5f7c76d8",
   "metadata": {},
   "outputs": [],
   "source": [
    "from pyflowline.operation.intersect_flowline_with_mesh_with_postprocess_op import intersect_flowline_with_mesh_with_postprocess_op\n",
    "intersect_flowline_with_mesh_with_postprocess_op(oPyflowline)"
   ]
  },
  {
   "cell_type": "markdown",
   "id": "33ce7f70",
   "metadata": {},
   "source": [
    "After this step, we can now visualize the final flowline again."
   ]
  },
  {
   "cell_type": "code",
   "execution_count": null,
   "id": "96f4015a",
   "metadata": {},
   "outputs": [],
   "source": [
    "pyflowline_plot_flowline(oPyflowline, sVariable_in = 'flowline_final')"
   ]
  }
 ],
 "metadata": {
  "kernelspec": {
   "display_name": "Python 3 (ipykernel)",
   "language": "python",
   "name": "python3"
  },
  "language_info": {
   "codemirror_mode": {
    "name": "ipython",
    "version": 3
   },
   "file_extension": ".py",
   "mimetype": "text/x-python",
   "name": "python",
   "nbconvert_exporter": "python",
   "pygments_lexer": "ipython3",
   "version": "3.6.8"
  }
 },
 "nbformat": 4,
 "nbformat_minor": 5
}
